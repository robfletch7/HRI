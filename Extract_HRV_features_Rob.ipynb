{
 "cells": [
  {
   "cell_type": "code",
   "execution_count": 4,
   "metadata": {},
   "outputs": [],
   "source": [
    "%matplotlib inline\n",
    "\n",
    "import os\n",
    "import csv\n",
    "import glob\n",
    "import numpy as np\n",
    "import matplotlib.pyplot as plt\n",
    "import heartpy as hp\n",
    "import pandas as pd\n",
    "pd.set_option(\"display.precision\", 2)\n",
    "from scipy.interpolate import interp1d\n",
    "from utils.process_ppg import load_PPG_signal, get_filtered_ppg, get_ppg_measures_batch\n",
    "\n",
    "%matplotlib inline"
   ]
  },
  {
   "cell_type": "code",
   "execution_count": 6,
   "metadata": {},
   "outputs": [
    {
     "name": "stdout",
     "output_type": "stream",
     "text": [
      "0\n",
      "{'bpm': 0.9950476190476192, 'ibi': 1.0049770290964777, 'sdnn': 0.43406973434965723, 'sdsd': 0.5704596737172418, 'rmssd': 0.6074153845190294, 'pnn20': 0.892156862745098, 'pnn50': 0.5634674922600619, 'hr_mad': 1.0, 'sd1': 0.6090306885879413, 'sd2': 0.3410449266596469, 's': 0.20770682652294867, 'sd1/sd2': 1.7857784736840157, 'breathingrate': 1.1192375237816479}\n",
      "{'bpm': -0.39315685845546966, 'ibi': 3.7615740740740193, 'sdnn': -59.25233280684644, 'sdsd': -26.189162302888015, 'rmssd': -42.13945456193218, 'pnn20': -0.09954751131221728, 'pnn50': -0.3190045248868778, 'hr_mad': 0.0, 'sd1': -29.59578852758935, 'sd2': -83.14489556231314, 's': -23774.030684350437, 'sd1/sd2': 0.4714195480020613, 'breathingrate': 0.023386785090055484}\n",
      "1\n",
      "{'bpm': 1.0393984962406015, 'ibi': 0.9620949074074074, 'sdnn': 0.510018021058691, 'sdsd': 0.4232073695151589, 'rmssd': 0.6132441406718666, 'pnn20': 1.35, 'pnn50': 1.2, 'hr_mad': 1.0, 'sd1': 0.6248199740725324, 'sd2': 0.43603010147093424, 's': 0.27244031669591284, 'sd1/sd2': 1.4329744023743345, 'breathingrate': 1.2129467296021579}\n",
      "{'bpm': 3.677192982456134, 'ibi': -24.36755952380952, 'sdnn': -42.21776397790996, 'sdsd': -52.16294857206149, 'rmssd': -46.22052360258981, 'pnn20': 0.2333333333333334, 'pnn50': 0.08333333333333331, 'hr_mad': 0.0, 'sd1': -31.088946152233248, 'sd2': -46.96305693826108, 's': -15771.943894269454, 'sd1/sd2': 0.43085196605175746, 'breathingrate': 0.02367653208829862}\n",
      "2\n",
      "{'bpm': 0.5545822102425876, 'ibi': 1.8031591737545567, 'sdnn': 0.67770060301667, 'sdsd': 0.45336716801697474, 'rmssd': 0.49284129334680515, 'pnn20': 0.7352941176470588, 'pnn50': 0.771604938271605, 'hr_mad': 1.2, 'sd1': 0.49205988851388566, 'sd2': 0.7661507949520744, 's': 0.37699207474894264, 'sd1/sd2': 0.6422494001910758, 'breathingrate': 2.450435556685954}\n",
      "{'bpm': -58.19115523051882, 'ibi': 368.86160714285717, 'sdnn': -27.594052871083434, 'sdsd': -35.66229411912301, 'rmssd': -46.26086027278998, 'pnn20': -0.18000000000000005, 'pnn50': -0.0822222222222222, 'hr_mad': 7.8125, 'sd1': -32.75869167946293, 'sd2': -23.69887482367527, 's': -12792.319911542447, 'sd1/sd2': -0.22766830803381338, 'breathingrate': 0.11290950931698225}\n",
      "3\n",
      "{'bpm': 0.8703296703296705, 'ibi': 1.148989898989899, 'sdnn': 1.9408640965548172, 'sdsd': 2.632402048073948, 'rmssd': 2.0336723997590163, 'pnn20': 1.0161290322580647, 'pnn50': 1.241935483870968, 'hr_mad': 1.5, 'sd1': 2.0648657962198835, 'sd2': 1.824070965697568, 's': 3.766461746946681, 'sd1/sd2': 1.1320095736682207, 'breathingrate': 0.8701609497442636}\n",
      "{'bpm': -13.412365412365403, 'ibi': 86.42578125, 'sdnn': 28.88054681663943, 'sdsd': 52.55097577234867, 'rmssd': 53.21826630626977, 'pnn20': 0.009216589861751223, 'pnn50': 0.06912442396313367, 'hr_mad': 7.8125, 'sd1': 38.17919055487298, 'sd2': 19.29225268624399, 's': 7294.990147426961, 'sd1/sd2': 0.20217103707092976, 'breathingrate': -0.056013395278574796}\n",
      "4\n",
      "{'bpm': 0.9380549909061732, 'ibi': 1.0660355839416058, 'sdnn': 0.5995765022647865, 'sdsd': 0.43269266079477764, 'rmssd': 0.39448526599135986, 'pnn20': 0.9777777777777777, 'pnn50': 0.6337448559670781, 'hr_mad': 0.42857142857142855, 'sd1': 0.40230863902775066, 'sd2': 0.7815509965783828, 's': 0.3144247177642315, 'sd1/sd2': 0.5147567347352268, 'breathingrate': 1.9054830519798671}\n",
      "{'bpm': -5.642873821101887, 'ibi': 43.49459134615381, 'sdnn': -68.9690361084028, 'sdsd': -90.1022197130952, 'rmssd': -166.48331716153558, 'pnn20': -0.02020202020202022, 'pnn50': -0.29966329966329974, 'hr_mad': -62.5, 'sd1': -113.9392175081407, 'sd2': -32.59889881339812, 's': -61270.883105338886, 'sd1/sd2': -0.619873268708684, 'breathingrate': 0.10583018372836221}\n",
      "5\n",
      "{'bpm': 0.9025270758122743, 'ibi': 1.108, 'sdnn': 1.0686647951740735, 'sdsd': 0.986647449686793, 'rmssd': 0.7825551626191194, 'pnn20': 0.7727272727272727, 'pnn50': 0.787878787878788, 'hr_mad': 0.7692307692307693, 'sd1': 0.803464877653879, 'sd2': 2.0819312670483283, 's': 1.67275865076277, 'sd1/sd2': 0.38592286420338767, 'breathingrate': 0.8662582360420762}\n",
      "{'bpm': -9.357400722021666, 'ibi': 67.5, 'sdnn': 8.960376551981938, 'sdsd': -1.8150823318622997, 'rmssd': -53.854520350567356, 'pnn20': -0.2272727272727273, 'pnn50': -0.15909090909090906, 'hr_mad': -23.4375, 'sd1': -33.441912051904524, 'sd2': 76.24918445426366, 's': 25345.194111940633, 'sd1/sd2': -1.482648912044366, 'breathingrate': -0.02676976860646993}\n",
      "6\n"
     ]
    },
    {
     "name": "stderr",
     "output_type": "stream",
     "text": [
      "C:\\Users\\Rob\\anaconda3\\envs\\HRI\\lib\\site-packages\\scipy\\interpolate\\_fitpack2.py:280: UserWarning: \n",
      "The maximal number of iterations maxit (set to 20 by the program)\n",
      "allowed for finding a smoothing spline with fp=s has been reached: s\n",
      "too small.\n",
      "There is an approximation returned but the corresponding weighted sum\n",
      "of squared residuals does not satisfy the condition abs(fp-s)/s < tol.\n",
      "  warnings.warn(message)\n",
      "C:\\Users\\Rob\\anaconda3\\envs\\HRI\\lib\\site-packages\\scipy\\interpolate\\_fitpack2.py:280: UserWarning: \n",
      "The maximal number of iterations maxit (set to 20 by the program)\n",
      "allowed for finding a smoothing spline with fp=s has been reached: s\n",
      "too small.\n",
      "There is an approximation returned but the corresponding weighted sum\n",
      "of squared residuals does not satisfy the condition abs(fp-s)/s < tol.\n",
      "  warnings.warn(message)\n",
      "C:\\Users\\Rob\\anaconda3\\envs\\HRI\\lib\\site-packages\\scipy\\interpolate\\_fitpack2.py:280: UserWarning: \n",
      "The maximal number of iterations maxit (set to 20 by the program)\n",
      "allowed for finding a smoothing spline with fp=s has been reached: s\n",
      "too small.\n",
      "There is an approximation returned but the corresponding weighted sum\n",
      "of squared residuals does not satisfy the condition abs(fp-s)/s < tol.\n",
      "  warnings.warn(message)\n",
      "C:\\Users\\Rob\\anaconda3\\envs\\HRI\\lib\\site-packages\\scipy\\interpolate\\_fitpack2.py:280: UserWarning: \n",
      "The maximal number of iterations maxit (set to 20 by the program)\n",
      "allowed for finding a smoothing spline with fp=s has been reached: s\n",
      "too small.\n",
      "There is an approximation returned but the corresponding weighted sum\n",
      "of squared residuals does not satisfy the condition abs(fp-s)/s < tol.\n",
      "  warnings.warn(message)\n"
     ]
    },
    {
     "name": "stdout",
     "output_type": "stream",
     "text": [
      "{'bpm': 1.0421270718232045, 'ibi': 0.9595758780649437, 'sdnn': 0.8824727995964522, 'sdsd': 0.9929083705024573, 'rmssd': 1.0046917444325731, 'pnn20': 1.0875000000000001, 'pnn50': 1.0285714285714287, 'hr_mad': 1.25, 'sd1': 1.0340677301816685, 'sd2': 0.6575050183550015, 's': 0.6799047219134128, 'sd1/sd2': 1.5727145821164705, 'breathingrate': 1.3896505970809376}\n",
      "{'bpm': 3.537669013543052, 'ibi': -28.88257575757575, 'sdnn': -15.895477887491793, 'sdsd': -0.6650682236613648, 'rmssd': 0.8203422444970272, 'pnn20': 0.07777777777777783, 'pnn50': 0.022222222222222254, 'hr_mad': 15.625, 'sd1': 4.080172908771104, 'sd2': -53.365981509166616, 's': -18766.13336017565, 'sd1/sd2': 0.4402134636300413, 'breathingrate': 0.09921084585128903}\n",
      "7\n",
      "{'bpm': 1.817241379310345, 'ibi': 0.5502846299810247, 'sdnn': 1.5399844089221062, 'sdsd': 3.7171124877822193, 'rmssd': 4.349980470885746, 'pnn20': 1.5333333333333334, 'pnn50': 2.625, 'hr_mad': 1.8, 'sd1': 4.364462755479857, 'sd2': 0.9690686699715793, 's': 4.22946411759336, 'sd1/sd2': 4.503770362948436, 'breathingrate': 4.927097140693051}\n",
      "{'bpm': 52.742973051289496, 'ibi': -418.09475806451616, 'sdnn': 56.441398532301235, 'sdsd': 97.22152213875593, 'rmssd': 180.44916094652197, 'pnn20': 0.3076923076923077, 'pnn50': 0.5, 'hr_mad': 62.5, 'sd1': 127.50079610396119, 'sd2': -4.550529944970208, 's': 56564.10104578933, 'sd1/sd2': 0.9025461633723375, 'breathingrate': 0.30185220143682173}\n",
      "8\n",
      "{'bpm': 1.116485403548941, 'ibi': 0.8956677774929506, 'sdnn': 1.7204631309005423, 'sdsd': 1.3276998759185876, 'rmssd': 1.2317323790208206, 'pnn20': 1.1818181818181819, 'pnn50': 0.9696969696969697, 'hr_mad': 2.3333333333333335, 'sd1': 1.2323364141144897, 'sd2': 2.715996398519924, 's': 3.347021262499912, 'sd1/sd2': 0.4537327128953664, 'breathingrate': 1.140259549820368}\n",
      "{'bpm': 10.77840842476948, 'ibi': -67.65292553191489, 'sdnn': 58.403977532092014, 'sdsd': 24.287765551342957, 'rmssd': 30.616797878419334, 'pnn20': 0.13636363636363635, 'pnn50': -0.022727272727272707, 'hr_mad': 62.5, 'sd1': 21.6677963287067, 'sd2': 100.7698532936349, 's': 40381.14354966971, 'sd1/sd2': -0.8675377906322614, 'breathingrate': 0.03607498709371604}\n",
      "9\n",
      "{'bpm': 0.7887429643527204, 'ibi': 1.2678401522359657, 'sdnn': 1.6752533626890893, 'sdsd': 0.8288714705031907, 'rmssd': 1.6501243034142206, 'pnn20': 1.4285714285714286, 'pnn50': 3.0, 'hr_mad': 7.5, 'sd1': 1.661722883276486, 'sd2': 1.8665389256116398, 's': 3.1016704452151687, 'sd1/sd2': 0.8902696110299236, 'breathingrate': 1.9712809420812303}\n",
      "{'bpm': -30.874482088888826, 'ibi': 109.9609375, 'sdnn': 48.46425901790147, 'sdsd': -13.9110474430435, 'rmssd': 66.66333813168838, 'pnn20': 0.30000000000000004, 'pnn50': 0.6666666666666667, 'hr_mad': 101.5625, 'sd1': 47.49135230781036, 'sd2': 57.14175947798519, 's': 31247.72507880681, 'sd1/sd2': -0.11942624268887558, 'breathingrate': 0.11841279391420058}\n",
      "10\n",
      "{'bpm': 1.053153153153153, 'ibi': 0.9495295124037638, 'sdnn': 3.1889735790527984, 'sdsd': 3.4516306031930624, 'rmssd': 3.2723662206144017, 'pnn20': 1.4034090909090908, 'pnn50': 3.3238636363636362, 'hr_mad': 2.0, 'sd1': 3.2301953395759493, 'sd2': 3.044893467226103, 's': 9.835600687339012, 'sd1/sd2': 1.0608566028152888, 'breathingrate': 0.7521369762441661}\n",
      "{'bpm': 4.444379055157498, 'ibi': -36.21651785714289, 'sdnn': 78.88434968536379, 'sdsd': 65.00511159174428, 'rmssd': 101.70470311542152, 'pnn20': 0.24825174825174823, 'pnn50': 0.47668997668997665, 'hr_mad': 31.25, 'sd1': 70.58145677109655, 'sd2': 80.27156367074788, 's': 34484.561055363156, 'sd1/sd2': 0.04906416175826889, 'breathingrate': -0.05184515051542629}\n",
      "11\n",
      "{'bpm': 1.0042541320873142, 'ibi': 0.995763888888889, 'sdnn': 0.8979594897720047, 'sdsd': 1.3959174421876412, 'rmssd': 0.8869685939836238, 'pnn20': 0.9090909090909091, 'pnn50': 0.8181818181818182, 'hr_mad': 0.625, 'sd1': 0.8947069306465204, 'sd2': 0.8960876599355708, 's': 0.8017358398111775, 'sd1/sd2': 0.998459158237767, 'breathingrate': 0.7832259188294723}\n",
      "{'bpm': 0.3686914475672296, 'ibi': -2.932692307692264, 'sdnn': -14.100423899541084, 'sdsd': 31.54360567947697, 'rmssd': -24.662463845271645, 'pnn20': -0.09090909090909094, 'pnn50': -0.18181818181818177, 'hr_mad': -46.875, 'sd1': -16.104477393022506, 'sd2': -11.227664175777775, 's': -10293.503745540373, 'sd1/sd2': -0.002181135277081525, 'breathingrate': -0.04820951432681589}\n",
      "12\n"
     ]
    },
    {
     "name": "stderr",
     "output_type": "stream",
     "text": [
      "C:\\Users\\Rob\\anaconda3\\envs\\HRI\\lib\\site-packages\\scipy\\interpolate\\_fitpack2.py:280: UserWarning: \n",
      "The maximal number of iterations maxit (set to 20 by the program)\n",
      "allowed for finding a smoothing spline with fp=s has been reached: s\n",
      "too small.\n",
      "There is an approximation returned but the corresponding weighted sum\n",
      "of squared residuals does not satisfy the condition abs(fp-s)/s < tol.\n",
      "  warnings.warn(message)\n",
      "C:\\Users\\Rob\\AppData\\Local\\Temp\\ipykernel_2800\\2238449296.py:10: RuntimeWarning: More than 20 figures have been opened. Figures created through the pyplot interface (`matplotlib.pyplot.figure`) are retained until explicitly closed and may consume too much memory. (To control this warning, see the rcParam `figure.max_open_warning`).\n",
      "  plt.figure(figsize=(12,4))\n",
      "C:\\Users\\Rob\\anaconda3\\envs\\HRI\\lib\\site-packages\\scipy\\interpolate\\_fitpack2.py:280: UserWarning: \n",
      "The maximal number of iterations maxit (set to 20 by the program)\n",
      "allowed for finding a smoothing spline with fp=s has been reached: s\n",
      "too small.\n",
      "There is an approximation returned but the corresponding weighted sum\n",
      "of squared residuals does not satisfy the condition abs(fp-s)/s < tol.\n",
      "  warnings.warn(message)\n"
     ]
    },
    {
     "name": "stdout",
     "output_type": "stream",
     "text": [
      "{'bpm': 1.0886402753872633, 'ibi': 0.9185770750988143, 'sdnn': 1.8942654357754942, 'sdsd': 1.2356449652607502, 'rmssd': 0.9969720630047815, 'pnn20': 0.7, 'pnn50': 0.5454545454545455, 'hr_mad': 1.3333333333333333, 'sd1': 0.9959927954185247, 'sd2': 2.2397474811360536, 's': 2.230772354768298, 'sd1/sd2': 0.444689771417148, 'breathingrate': 0.5206370198930952}\n",
      "{'bpm': 6.188702863401659, 'ibi': -69.9728260869565, 'sdnn': 39.7452407446783, 'sdsd': 7.147833147199599, 'rmssd': -0.15243526835364918, 'pnn20': -0.2142857142857143, 'pnn50': -0.1515151515151515, 'hr_mad': 7.8125, 'sd1': -0.1420858447343818, 'sd2': 59.10041719214168, 's': 6535.7317035431115, 'sd1/sd2': -0.4130357653449422, 'breathingrate': -0.10147395853236765}\n",
      "13\n",
      "{'bpm': 0.6049049820236261, 'ibi': 1.6531521969857779, 'sdnn': 0.8716409102057451, 'sdsd': 0.7370576424228761, 'rmssd': 0.7102835986151549, 'pnn20': 0.9810606060606061, 'pnn50': 0.9249999999999999, 'hr_mad': 0.6666666666666666, 'sd1': 0.6528485517685442, 'sd2': 0.6550158115358009, 's': 0.42762612394664523, 'sd1/sd2': 0.9966912863337221, 'breathingrate': 0.7601012841381806}\n",
      "{'bpm': -49.59528546603873, 'ibi': 312.1956168831169, 'sdnn': -15.32994652520982, 'sdsd': -23.484336984971364, 'rmssd': -46.725134057601636, 'pnn20': -0.016891891891891886, 'pnn50': -0.060810810810810856, 'hr_mad': -31.25, 'sd1': -39.301405717873024, 'sd2': -44.005097840118864, 's': -25967.047935493127, 'sd1/sd2': -0.002936597927512996, 'breathingrate': -0.0570834045262027}\n",
      "14\n",
      "{'bpm': 0.7633195737736392, 'ibi': 1.310067282902597, 'sdnn': 1.2113669038615773, 'sdsd': 1.228246424801694, 'rmssd': 0.8991286530362292, 'pnn20': 0.8128342245989305, 'pnn50': 0.806060606060606, 'hr_mad': 0.7692307692307693, 'sd1': 0.8979814651202775, 'sd2': 1.8555710734187458, 's': 1.6662684311433718, 'sd1/sd2': 0.48393805981563204, 'breathingrate': 0.5892563287572418}\n",
      "{'bpm': -23.88860502700473, 'ibi': 184.32266746411483, 'sdnn': 28.48813256130788, 'sdsd': 24.212914564196055, 'rmssd': -19.187896663235705, 'pnn20': -0.16746411483253587, 'pnn50': -0.15311004784688997, 'hr_mad': -23.4375, 'sd1': -13.709367012368489, 'sd2': 104.41211595397644, 's': 34326.7141837844, 'sd1/sd2': -0.5682577238769879, 'breathingrate': -0.09427934305495597}\n",
      "15\n",
      "{'bpm': 1.057742782152231, 'ibi': 0.945409429280397, 'sdnn': 0.6052402741669494, 'sdsd': 0.7351937064964009, 'rmssd': 0.6979824404521128, 'pnn20': 0.5128205128205129, 'pnn50': 0.7692307692307693, 'hr_mad': 0.6666666666666666, 'sd1': 0.7403221751892368, 'sd2': 0.5315458454652692, 's': 0.39351517652765006, 'sd1/sd2': 1.3927720092351075, 'breathingrate': 1.0575581883875305}\n",
      "{'bpm': 3.8514292413200195, 'ibi': -49.10714285714289, 'sdnn': -27.15917836756084, 'sdsd': -8.439077861856436, 'rmssd': -14.157073103807214, 'pnn20': -0.29230769230769227, 'pnn50': -0.046153846153846156, 'hr_mad': -15.625, 'sd1': -8.114932025336348, 'sd2': -43.22901689710336, 's': -5494.498968395175, 'sd1/sd2': 0.1330093857653376, 'breathingrate': 0.009146383026780613}\n",
      "16\n",
      "{'bpm': 1.1464829586657, 'ibi': 0.8722327640733712, 'sdnn': 0.4432058996818922, 'sdsd': 0.7128724322573541, 'rmssd': 0.34879483286676927, 'pnn20': 0.5769230769230769, 'pnn50': 0.2692307692307692, 'hr_mad': 0.1111111111111111, 'sd1': 0.36417156043978954, 'sd2': 0.4583776193104368, 's': 0.1669280928949576, 'sd1/sd2': 0.7944793661340473, 'breathingrate': 1.1095890410958904}\n",
      "{'bpm': 11.02930512306446, 'ibi': -101.81451612903231, 'sdnn': -90.82970421365835, 'sdsd': -28.17496409082922, 'rmssd': -161.7165758205883, 'pnn20': -0.42307692307692313, 'pnn50': -0.7307692307692308, 'hr_mad': -125.0, 'sd1': -106.87206175481705, 'sd2': -68.60652228486842, 's': -55721.834240844, 'sd1/sd2': -0.2727161553957196, 'breathingrate': 0.013758824996345315}\n",
      "17\n",
      "{'bpm': 1.0775058275058276, 'ibi': 0.9280692266089777, 'sdnn': 0.8105443840777234, 'sdsd': 0.8052426442360865, 'rmssd': 0.6713994355616774, 'pnn20': 0.6666666666666666, 'pnn50': 0.43478260869565216, 'hr_mad': 0.6666666666666666, 'sd1': 0.6659238285679115, 'sd2': 0.6980890787752562, 's': 0.464874152019465, 'sd1/sd2': 0.9539238598836467, 'breathingrate': 1.6011644832605534}\n",
      "{'bpm': 6.2775947686710225, 'ibi': -53.285256410256466, 'sdnn': -16.755299513382013, 'sdsd': -10.05967148368557, 'rmssd': -28.343326032718146, 'pnn20': -0.26315789473684215, 'pnn50': -0.34210526315789475, 'hr_mad': -15.625, 'sd1': -20.374796029188865, 'sd2': -33.467917318159664, 's': -11365.889660380524, 'sd1/sd2': -0.025349768407692763, 'breathingrate': 0.10409774601914343}\n",
      "18\n",
      "{'bpm': 0.4918610960390667, 'ibi': 2.0330943188086046, 'sdnn': 3.8211206677544545, 'sdsd': 2.6696533820569046, 'rmssd': 2.040670395810079, 'pnn20': 1.0384615384615385, 'pnn50': 3.5000000000000004, 'hr_mad': 3.5, 'sd1': 1.8212048219818957, 'sd2': 4.993054278212216, 's': 9.09337452789742, 'sd1/sd2': 0.36474765153844585, 'breathingrate': 0.33347083573962544}\n",
      "{'bpm': -71.57107033395694, 'ibi': 440.0845864661654, 'sdnn': 98.9202094229662, 'sdsd': 33.95940048459997, 'rmssd': 45.83159720882039, 'pnn20': 0.02777777777777779, 'pnn50': 0.41666666666666674, 'hr_mad': 39.0625, 'sd1': 25.16779414951299, 'sd2': 128.31938057642458, 's': 25041.492751241956, 'sd1/sd2': -0.6058329649706863, 'breathingrate': -0.1649008323256741}\n",
      "19\n",
      "{'bpm': 1.199979255263977, 'ibi': 0.8333477396490621, 'sdnn': 1.1537635226457124, 'sdsd': 1.2309260525682182, 'rmssd': 1.225639345022367, 'pnn20': 0.8502024291497976, 'pnn50': 1.2469635627530364, 'hr_mad': 1.4, 'sd1': 1.2540380389362875, 'sd2': 1.2325685737238377, 's': 1.545687877047138, 'sd1/sd2': 1.0174184752638842, 'breathingrate': 0.6932037692556603}\n",
      "{'bpm': 15.775699500744736, 'ibi': -126.7531556802245, 'sdnn': 20.21563657735493, 'sdsd': 20.593818012186162, 'rmssd': 28.742796978836196, 'pnn20': -0.13909774436090228, 'pnn50': 0.11466165413533835, 'hr_mad': 31.25, 'sd1': 22.34881624441543, 'sd2': 34.7285151442818, 's': 22520.868617569235, 'sd1/sd2': 0.01026196960078285, 'breathingrate': -0.09113403841334086}\n",
      "20\n",
      "{'bpm': 1.297776442307692, 'ibi': 0.7705487381338273, 'sdnn': 3.011952152808809, 'sdsd': 2.3290314141619084, 'rmssd': 1.392258072959232, 'pnn20': 0.8, 'pnn50': 0.8823529411764705, 'hr_mad': 0.5714285714285714, 'sd1': 1.2346746914998843, 'sd2': 1.8717375244793846, 's': 2.310986950605341, 'sd1/sd2': 0.6596409354155057, 'breathingrate': 0.48205769551442385}\n",
      "{'bpm': 16.061588330632084, 'ibi': -255.2369505494505, 'sdnn': 103.53928673804255, 'sdsd': 48.04832274822282, 'rmssd': 34.212959317328654, 'pnn20': -0.19999999999999996, 'pnn50': -0.08000000000000007, 'hr_mad': -23.4375, 'sd1': 14.464088751424441, 'sd2': 33.02892432136964, 's': 9617.933121926053, 'sd1/sd2': -0.5536731391454293, 'breathingrate': -0.17916299577487158}\n",
      "21\n",
      "An exception occurred\n"
     ]
    },
    {
     "data": {
      "text/plain": [
       "<Figure size 864x288 with 0 Axes>"
      ]
     },
     "metadata": {},
     "output_type": "display_data"
    },
    {
     "data": {
      "text/plain": [
       "<Figure size 864x288 with 0 Axes>"
      ]
     },
     "metadata": {},
     "output_type": "display_data"
    },
    {
     "data": {
      "text/plain": [
       "<Figure size 864x288 with 0 Axes>"
      ]
     },
     "metadata": {},
     "output_type": "display_data"
    },
    {
     "data": {
      "text/plain": [
       "<Figure size 864x288 with 0 Axes>"
      ]
     },
     "metadata": {},
     "output_type": "display_data"
    },
    {
     "data": {
      "text/plain": [
       "<Figure size 864x288 with 0 Axes>"
      ]
     },
     "metadata": {},
     "output_type": "display_data"
    },
    {
     "data": {
      "text/plain": [
       "<Figure size 864x288 with 0 Axes>"
      ]
     },
     "metadata": {},
     "output_type": "display_data"
    },
    {
     "data": {
      "text/plain": [
       "<Figure size 864x288 with 0 Axes>"
      ]
     },
     "metadata": {},
     "output_type": "display_data"
    },
    {
     "data": {
      "text/plain": [
       "<Figure size 864x288 with 0 Axes>"
      ]
     },
     "metadata": {},
     "output_type": "display_data"
    },
    {
     "data": {
      "text/plain": [
       "<Figure size 864x288 with 0 Axes>"
      ]
     },
     "metadata": {},
     "output_type": "display_data"
    },
    {
     "data": {
      "text/plain": [
       "<Figure size 864x288 with 0 Axes>"
      ]
     },
     "metadata": {},
     "output_type": "display_data"
    },
    {
     "data": {
      "text/plain": [
       "<Figure size 864x288 with 0 Axes>"
      ]
     },
     "metadata": {},
     "output_type": "display_data"
    },
    {
     "data": {
      "text/plain": [
       "<Figure size 864x288 with 0 Axes>"
      ]
     },
     "metadata": {},
     "output_type": "display_data"
    },
    {
     "data": {
      "text/plain": [
       "<Figure size 864x288 with 0 Axes>"
      ]
     },
     "metadata": {},
     "output_type": "display_data"
    },
    {
     "data": {
      "text/plain": [
       "<Figure size 864x288 with 0 Axes>"
      ]
     },
     "metadata": {},
     "output_type": "display_data"
    },
    {
     "data": {
      "text/plain": [
       "<Figure size 864x288 with 0 Axes>"
      ]
     },
     "metadata": {},
     "output_type": "display_data"
    },
    {
     "data": {
      "text/plain": [
       "<Figure size 864x288 with 0 Axes>"
      ]
     },
     "metadata": {},
     "output_type": "display_data"
    },
    {
     "data": {
      "text/plain": [
       "<Figure size 864x288 with 0 Axes>"
      ]
     },
     "metadata": {},
     "output_type": "display_data"
    },
    {
     "data": {
      "text/plain": [
       "<Figure size 864x288 with 0 Axes>"
      ]
     },
     "metadata": {},
     "output_type": "display_data"
    },
    {
     "data": {
      "text/plain": [
       "<Figure size 864x288 with 0 Axes>"
      ]
     },
     "metadata": {},
     "output_type": "display_data"
    },
    {
     "data": {
      "text/plain": [
       "<Figure size 864x288 with 0 Axes>"
      ]
     },
     "metadata": {},
     "output_type": "display_data"
    },
    {
     "data": {
      "text/plain": [
       "<Figure size 864x288 with 0 Axes>"
      ]
     },
     "metadata": {},
     "output_type": "display_data"
    },
    {
     "data": {
      "text/plain": [
       "<Figure size 864x288 with 0 Axes>"
      ]
     },
     "metadata": {},
     "output_type": "display_data"
    },
    {
     "data": {
      "text/plain": [
       "<Figure size 864x288 with 0 Axes>"
      ]
     },
     "metadata": {},
     "output_type": "display_data"
    },
    {
     "data": {
      "text/plain": [
       "<Figure size 864x288 with 0 Axes>"
      ]
     },
     "metadata": {},
     "output_type": "display_data"
    },
    {
     "data": {
      "text/plain": [
       "<Figure size 864x288 with 0 Axes>"
      ]
     },
     "metadata": {},
     "output_type": "display_data"
    },
    {
     "data": {
      "text/plain": [
       "<Figure size 864x288 with 0 Axes>"
      ]
     },
     "metadata": {},
     "output_type": "display_data"
    },
    {
     "data": {
      "text/plain": [
       "<Figure size 864x288 with 0 Axes>"
      ]
     },
     "metadata": {},
     "output_type": "display_data"
    },
    {
     "data": {
      "text/plain": [
       "<Figure size 864x288 with 0 Axes>"
      ]
     },
     "metadata": {},
     "output_type": "display_data"
    },
    {
     "data": {
      "text/plain": [
       "<Figure size 864x288 with 0 Axes>"
      ]
     },
     "metadata": {},
     "output_type": "display_data"
    },
    {
     "data": {
      "text/plain": [
       "<Figure size 864x288 with 0 Axes>"
      ]
     },
     "metadata": {},
     "output_type": "display_data"
    },
    {
     "data": {
      "text/plain": [
       "<Figure size 864x288 with 0 Axes>"
      ]
     },
     "metadata": {},
     "output_type": "display_data"
    },
    {
     "data": {
      "text/plain": [
       "<Figure size 864x288 with 0 Axes>"
      ]
     },
     "metadata": {},
     "output_type": "display_data"
    },
    {
     "data": {
      "text/plain": [
       "<Figure size 864x288 with 0 Axes>"
      ]
     },
     "metadata": {},
     "output_type": "display_data"
    },
    {
     "data": {
      "text/plain": [
       "<Figure size 864x288 with 0 Axes>"
      ]
     },
     "metadata": {},
     "output_type": "display_data"
    },
    {
     "data": {
      "text/plain": [
       "<Figure size 864x288 with 0 Axes>"
      ]
     },
     "metadata": {},
     "output_type": "display_data"
    },
    {
     "data": {
      "text/plain": [
       "<Figure size 864x288 with 0 Axes>"
      ]
     },
     "metadata": {},
     "output_type": "display_data"
    },
    {
     "data": {
      "text/plain": [
       "<Figure size 864x288 with 0 Axes>"
      ]
     },
     "metadata": {},
     "output_type": "display_data"
    },
    {
     "data": {
      "text/plain": [
       "<Figure size 864x288 with 0 Axes>"
      ]
     },
     "metadata": {},
     "output_type": "display_data"
    },
    {
     "data": {
      "text/plain": [
       "<Figure size 864x288 with 0 Axes>"
      ]
     },
     "metadata": {},
     "output_type": "display_data"
    },
    {
     "data": {
      "text/plain": [
       "<Figure size 864x288 with 0 Axes>"
      ]
     },
     "metadata": {},
     "output_type": "display_data"
    },
    {
     "data": {
      "text/plain": [
       "<Figure size 864x288 with 0 Axes>"
      ]
     },
     "metadata": {},
     "output_type": "display_data"
    },
    {
     "data": {
      "text/plain": [
       "<Figure size 864x288 with 0 Axes>"
      ]
     },
     "metadata": {},
     "output_type": "display_data"
    },
    {
     "data": {
      "text/plain": [
       "<Figure size 864x288 with 0 Axes>"
      ]
     },
     "metadata": {},
     "output_type": "display_data"
    },
    {
     "data": {
      "text/plain": [
       "<Figure size 864x288 with 0 Axes>"
      ]
     },
     "metadata": {},
     "output_type": "display_data"
    }
   ],
   "source": [
    "def calc_HRV_measures(signal,sample_rate=64.0):\n",
    "    t_elapsed = np.arange(0,len(signal))\n",
    "    t_elapsed = t_elapsed/sample_rate\n",
    "    #filtered = get_filtered_ppg(signal, t_elapsed, sample_rate=sample_rate)\n",
    "    filtered = get_filtered_ppg(signal, sample_rate=sample_rate)\n",
    "    if len(filtered) > 30*sample_rate:\n",
    "        start_indx = int(((len(filtered)//2) - (15*sample_rate)))\n",
    "        end_indx = int(((len(filtered)//2) + (15*sample_rate)))\n",
    "        filtered = filtered[start_indx : end_indx]\n",
    "    plt.figure(figsize=(12,4))\n",
    "    x_axis = [i/sample_rate for i in range(len(filtered))]\n",
    "    #plt.plot(x_axis, filtered)\n",
    "    #plt.xlabel('Time(seconds)')\n",
    "    #plt.title('Filtered PPG Signal: ')\n",
    "\n",
    "    wd, m = hp.process(filtered, sample_rate = sample_rate)\n",
    "\n",
    "   # for measure in m.keys():\n",
    "   #     print(measure, m[measure])\n",
    "\n",
    "    return m\n",
    "\n",
    "def calc_diff(baseline_sig,game_sig):\n",
    "    base_dict = calc_HRV_measures(baseline_sig)\n",
    "    game_dict = calc_HRV_measures(game_sig)\n",
    "    perc_diff = {}\n",
    "    abs_diff = {}\n",
    "    for key in base_dict:\n",
    "        perc_diff[key] = game_dict[key]/base_dict[key]\n",
    "        abs_diff[key] = game_dict[key] - base_dict[key]\n",
    "\n",
    "    #print(perc_diff)\n",
    "    #print(abs_diff)\n",
    "    return perc_diff,abs_diff\n",
    "\n",
    "\n",
    "\n",
    "folder = './Data'\n",
    "HR_path = folder+\"/**/HR.csv\"\n",
    "PPG_path = folder + \"/**/BVP.csv\"\n",
    "tag_path = folder + \"/**/tags.csv\"\n",
    "\n",
    "#Load raw PPG data\n",
    "PPG_csv_paths = glob.glob(PPG_path, recursive=True)\n",
    "\n",
    "#Load timestamp\n",
    "tag_csv_paths = glob.glob(tag_path,recursive=True)\n",
    "\n",
    "id_list = []\n",
    "df_list = []\n",
    "tag_list = []\n",
    "sample_rate = 0\n",
    "\n",
    "for csv_path in PPG_csv_paths:\n",
    "    curr_df = pd.read_csv(csv_path)\n",
    "    id_num = curr_df.columns.values.tolist()\n",
    "    id_list.append(id_num)\n",
    "    sample_rate = curr_df.iloc[0]\n",
    "    df_list.append(curr_df)\n",
    "\n",
    "for i,tag_path in enumerate(tag_csv_paths):\n",
    "    curr_tag_df = pd.read_csv(tag_path,names=id_list[i])\n",
    "    tag_list.append(curr_tag_df)\n",
    "\n",
    "merged_tag_df = pd.concat(tag_list,axis=1)\n",
    "merged_df = pd.concat(df_list,axis=1)\n",
    "diff_tag_df = merged_tag_df - merged_tag_df.iloc[0]\n",
    "#ppg_df = merged_df.iloc[1: , :]\n",
    "\n",
    "save_dict = {}\n",
    "HR_df = pd.DataFrame()\n",
    "\n",
    "for i,csv_path in enumerate(PPG_csv_paths):\n",
    "    print(i)\n",
    "    bvp_df = pd.read_csv(csv_path)\n",
    "    sample_rate = 64.0 \n",
    "    bvp_df = bvp_df.iloc[1:]\n",
    "    bvp_df\n",
    "    \n",
    "    id = id_list[i][0]\n",
    "    raw_signal = bvp_df.to_numpy()\n",
    "    t_elapsed = np.arange(0,len(raw_signal))\n",
    "    t_elapsed = t_elapsed/64\n",
    "    raw_signal = np.squeeze(raw_signal)\n",
    "    #Segment \n",
    "    times = diff_tag_df[id]\n",
    "    baseline_sig = raw_signal[t_elapsed<times[1]]\n",
    "    game_sig = raw_signal[(times[1]<t_elapsed) * (t_elapsed<times[2])]\n",
    "    post_game_sig = raw_signal[(times[2]<t_elapsed)]\n",
    "    try:\n",
    "        perc,abs = calc_diff(baseline_sig,game_sig)\n",
    "        for key in perc:\n",
    "            perc_col_name = 'perc_' + key\n",
    "            abs_col_name = 'abs_' + key\n",
    "            HR_df[id][perc_col_name] = \n",
    "        \n",
    "        diff_dict = {'perc':perc,'abs':abs}\n",
    "        save_dict[str(id)] = diff_dict\n",
    "\n",
    "        print(perc)\n",
    "        print(abs)\n",
    "    except:\n",
    "        print(\"An exception occurred\")"
   ]
  },
  {
   "cell_type": "code",
   "execution_count": 13,
   "metadata": {},
   "outputs": [
    {
     "name": "stdout",
     "output_type": "stream",
     "text": [
      "                                                            perc  \\\n",
      "1647264808.00  {'bpm': 0.9950476190476192, 'ibi': 1.004977029...   \n",
      "1647265213.00  {'bpm': 1.0393984962406015, 'ibi': 0.962094907...   \n",
      "1647265691.00  {'bpm': 0.5545822102425876, 'ibi': 1.803159173...   \n",
      "1647267334.00  {'bpm': 0.8703296703296705, 'ibi': 1.148989898...   \n",
      "1647267651.00  {'bpm': 0.9380549909061732, 'ibi': 1.066035583...   \n",
      "1647268069.00  {'bpm': 0.9025270758122743, 'ibi': 1.108, 'sdn...   \n",
      "1647268497.00  {'bpm': 1.0421270718232045, 'ibi': 0.959575878...   \n",
      "1647268988.00  {'bpm': 1.817241379310345, 'ibi': 0.5502846299...   \n",
      "1647269598.00  {'bpm': 1.116485403548941, 'ibi': 0.8956677774...   \n",
      "1646752964.00  {'bpm': 0.7887429643527204, 'ibi': 1.267840152...   \n",
      "1646754723.00  {'bpm': 1.053153153153153, 'ibi': 0.9495295124...   \n",
      "1646755454.00  {'bpm': 1.0042541320873142, 'ibi': 0.995763888...   \n",
      "1646756026.00  {'bpm': 1.0886402753872633, 'ibi': 0.918577075...   \n",
      "1646756620.00  {'bpm': 0.6049049820236261, 'ibi': 1.653152196...   \n",
      "1646757051.00  {'bpm': 0.7633195737736392, 'ibi': 1.310067282...   \n",
      "1646757757.00  {'bpm': 1.057742782152231, 'ibi': 0.9454094292...   \n",
      "1646758277.00  {'bpm': 1.1464829586657, 'ibi': 0.872232764073...   \n",
      "1646230801.00  {'bpm': 1.0775058275058276, 'ibi': 0.928069226...   \n",
      "1646231516.00  {'bpm': 0.4918610960390667, 'ibi': 2.033094318...   \n",
      "1646232320.00  {'bpm': 1.199979255263977, 'ibi': 0.8333477396...   \n",
      "1646233411.00  {'bpm': 1.297776442307692, 'ibi': 0.7705487381...   \n",
      "\n",
      "                                                             abs  \n",
      "1647264808.00  {'bpm': -0.39315685845546966, 'ibi': 3.7615740...  \n",
      "1647265213.00  {'bpm': 3.677192982456134, 'ibi': -24.36755952...  \n",
      "1647265691.00  {'bpm': -58.19115523051882, 'ibi': 368.8616071...  \n",
      "1647267334.00  {'bpm': -13.412365412365403, 'ibi': 86.4257812...  \n",
      "1647267651.00  {'bpm': -5.642873821101887, 'ibi': 43.49459134...  \n",
      "1647268069.00  {'bpm': -9.357400722021666, 'ibi': 67.5, 'sdnn...  \n",
      "1647268497.00  {'bpm': 3.537669013543052, 'ibi': -28.88257575...  \n",
      "1647268988.00  {'bpm': 52.742973051289496, 'ibi': -418.094758...  \n",
      "1647269598.00  {'bpm': 10.77840842476948, 'ibi': -67.65292553...  \n",
      "1646752964.00  {'bpm': -30.874482088888826, 'ibi': 109.960937...  \n",
      "1646754723.00  {'bpm': 4.444379055157498, 'ibi': -36.21651785...  \n",
      "1646755454.00  {'bpm': 0.3686914475672296, 'ibi': -2.93269230...  \n",
      "1646756026.00  {'bpm': 6.188702863401659, 'ibi': -69.97282608...  \n",
      "1646756620.00  {'bpm': -49.59528546603873, 'ibi': 312.1956168...  \n",
      "1646757051.00  {'bpm': -23.88860502700473, 'ibi': 184.3226674...  \n",
      "1646757757.00  {'bpm': 3.8514292413200195, 'ibi': -49.1071428...  \n",
      "1646758277.00  {'bpm': 11.02930512306446, 'ibi': -101.8145161...  \n",
      "1646230801.00  {'bpm': 6.2775947686710225, 'ibi': -53.2852564...  \n",
      "1646231516.00  {'bpm': -71.57107033395694, 'ibi': 440.0845864...  \n",
      "1646232320.00  {'bpm': 15.775699500744736, 'ibi': -126.753155...  \n",
      "1646233411.00  {'bpm': 16.061588330632084, 'ibi': -255.236950...  \n",
      "Index(['perc', 'abs'], dtype='object')\n"
     ]
    }
   ],
   "source": [
    "HR_df = pd.DataFrame.from_dict(save_dict,orient='index')\n",
    "print(HR_df)\n",
    "print(HR_df.columns)"
   ]
  },
  {
   "cell_type": "code",
   "execution_count": 18,
   "metadata": {},
   "outputs": [
    {
     "name": "stdout",
     "output_type": "stream",
     "text": [
      "{'1647264808.00': {'perc': {'bpm': 0.9950476190476192, 'ibi': 1.0049770290964777, 'sdnn': 0.43406973434965723, 'sdsd': 0.5704596737172418, 'rmssd': 0.6074153845190294, 'pnn20': 0.892156862745098, 'pnn50': 0.5634674922600619, 'hr_mad': 1.0, 'sd1': 0.6090306885879413, 'sd2': 0.3410449266596469, 's': 0.20770682652294867, 'sd1/sd2': 1.7857784736840157, 'breathingrate': 1.1192375237816479}, 'abs': {'bpm': -0.39315685845546966, 'ibi': 3.7615740740740193, 'sdnn': -59.25233280684644, 'sdsd': -26.189162302888015, 'rmssd': -42.13945456193218, 'pnn20': -0.09954751131221728, 'pnn50': -0.3190045248868778, 'hr_mad': 0.0, 'sd1': -29.59578852758935, 'sd2': -83.14489556231314, 's': -23774.030684350437, 'sd1/sd2': 0.4714195480020613, 'breathingrate': 0.023386785090055484}}, '1647265213.00': {'perc': {'bpm': 1.0393984962406015, 'ibi': 0.9620949074074074, 'sdnn': 0.510018021058691, 'sdsd': 0.4232073695151589, 'rmssd': 0.6132441406718666, 'pnn20': 1.35, 'pnn50': 1.2, 'hr_mad': 1.0, 'sd1': 0.6248199740725324, 'sd2': 0.43603010147093424, 's': 0.27244031669591284, 'sd1/sd2': 1.4329744023743345, 'breathingrate': 1.2129467296021579}, 'abs': {'bpm': 3.677192982456134, 'ibi': -24.36755952380952, 'sdnn': -42.21776397790996, 'sdsd': -52.16294857206149, 'rmssd': -46.22052360258981, 'pnn20': 0.2333333333333334, 'pnn50': 0.08333333333333331, 'hr_mad': 0.0, 'sd1': -31.088946152233248, 'sd2': -46.96305693826108, 's': -15771.943894269454, 'sd1/sd2': 0.43085196605175746, 'breathingrate': 0.02367653208829862}}, '1647265691.00': {'perc': {'bpm': 0.5545822102425876, 'ibi': 1.8031591737545567, 'sdnn': 0.67770060301667, 'sdsd': 0.45336716801697474, 'rmssd': 0.49284129334680515, 'pnn20': 0.7352941176470588, 'pnn50': 0.771604938271605, 'hr_mad': 1.2, 'sd1': 0.49205988851388566, 'sd2': 0.7661507949520744, 's': 0.37699207474894264, 'sd1/sd2': 0.6422494001910758, 'breathingrate': 2.450435556685954}, 'abs': {'bpm': -58.19115523051882, 'ibi': 368.86160714285717, 'sdnn': -27.594052871083434, 'sdsd': -35.66229411912301, 'rmssd': -46.26086027278998, 'pnn20': -0.18000000000000005, 'pnn50': -0.0822222222222222, 'hr_mad': 7.8125, 'sd1': -32.75869167946293, 'sd2': -23.69887482367527, 's': -12792.319911542447, 'sd1/sd2': -0.22766830803381338, 'breathingrate': 0.11290950931698225}}, '1647267334.00': {'perc': {'bpm': 0.8703296703296705, 'ibi': 1.148989898989899, 'sdnn': 1.9408640965548172, 'sdsd': 2.632402048073948, 'rmssd': 2.0336723997590163, 'pnn20': 1.0161290322580647, 'pnn50': 1.241935483870968, 'hr_mad': 1.5, 'sd1': 2.0648657962198835, 'sd2': 1.824070965697568, 's': 3.766461746946681, 'sd1/sd2': 1.1320095736682207, 'breathingrate': 0.8701609497442636}, 'abs': {'bpm': -13.412365412365403, 'ibi': 86.42578125, 'sdnn': 28.88054681663943, 'sdsd': 52.55097577234867, 'rmssd': 53.21826630626977, 'pnn20': 0.009216589861751223, 'pnn50': 0.06912442396313367, 'hr_mad': 7.8125, 'sd1': 38.17919055487298, 'sd2': 19.29225268624399, 's': 7294.990147426961, 'sd1/sd2': 0.20217103707092976, 'breathingrate': -0.056013395278574796}}, '1647267651.00': {'perc': {'bpm': 0.9380549909061732, 'ibi': 1.0660355839416058, 'sdnn': 0.5995765022647865, 'sdsd': 0.43269266079477764, 'rmssd': 0.39448526599135986, 'pnn20': 0.9777777777777777, 'pnn50': 0.6337448559670781, 'hr_mad': 0.42857142857142855, 'sd1': 0.40230863902775066, 'sd2': 0.7815509965783828, 's': 0.3144247177642315, 'sd1/sd2': 0.5147567347352268, 'breathingrate': 1.9054830519798671}, 'abs': {'bpm': -5.642873821101887, 'ibi': 43.49459134615381, 'sdnn': -68.9690361084028, 'sdsd': -90.1022197130952, 'rmssd': -166.48331716153558, 'pnn20': -0.02020202020202022, 'pnn50': -0.29966329966329974, 'hr_mad': -62.5, 'sd1': -113.9392175081407, 'sd2': -32.59889881339812, 's': -61270.883105338886, 'sd1/sd2': -0.619873268708684, 'breathingrate': 0.10583018372836221}}, '1647268069.00': {'perc': {'bpm': 0.9025270758122743, 'ibi': 1.108, 'sdnn': 1.0686647951740735, 'sdsd': 0.986647449686793, 'rmssd': 0.7825551626191194, 'pnn20': 0.7727272727272727, 'pnn50': 0.787878787878788, 'hr_mad': 0.7692307692307693, 'sd1': 0.803464877653879, 'sd2': 2.0819312670483283, 's': 1.67275865076277, 'sd1/sd2': 0.38592286420338767, 'breathingrate': 0.8662582360420762}, 'abs': {'bpm': -9.357400722021666, 'ibi': 67.5, 'sdnn': 8.960376551981938, 'sdsd': -1.8150823318622997, 'rmssd': -53.854520350567356, 'pnn20': -0.2272727272727273, 'pnn50': -0.15909090909090906, 'hr_mad': -23.4375, 'sd1': -33.441912051904524, 'sd2': 76.24918445426366, 's': 25345.194111940633, 'sd1/sd2': -1.482648912044366, 'breathingrate': -0.02676976860646993}}, '1647268497.00': {'perc': {'bpm': 1.0421270718232045, 'ibi': 0.9595758780649437, 'sdnn': 0.8824727995964522, 'sdsd': 0.9929083705024573, 'rmssd': 1.0046917444325731, 'pnn20': 1.0875000000000001, 'pnn50': 1.0285714285714287, 'hr_mad': 1.25, 'sd1': 1.0340677301816685, 'sd2': 0.6575050183550015, 's': 0.6799047219134128, 'sd1/sd2': 1.5727145821164705, 'breathingrate': 1.3896505970809376}, 'abs': {'bpm': 3.537669013543052, 'ibi': -28.88257575757575, 'sdnn': -15.895477887491793, 'sdsd': -0.6650682236613648, 'rmssd': 0.8203422444970272, 'pnn20': 0.07777777777777783, 'pnn50': 0.022222222222222254, 'hr_mad': 15.625, 'sd1': 4.080172908771104, 'sd2': -53.365981509166616, 's': -18766.13336017565, 'sd1/sd2': 0.4402134636300413, 'breathingrate': 0.09921084585128903}}, '1647268988.00': {'perc': {'bpm': 1.817241379310345, 'ibi': 0.5502846299810247, 'sdnn': 1.5399844089221062, 'sdsd': 3.7171124877822193, 'rmssd': 4.349980470885746, 'pnn20': 1.5333333333333334, 'pnn50': 2.625, 'hr_mad': 1.8, 'sd1': 4.364462755479857, 'sd2': 0.9690686699715793, 's': 4.22946411759336, 'sd1/sd2': 4.503770362948436, 'breathingrate': 4.927097140693051}, 'abs': {'bpm': 52.742973051289496, 'ibi': -418.09475806451616, 'sdnn': 56.441398532301235, 'sdsd': 97.22152213875593, 'rmssd': 180.44916094652197, 'pnn20': 0.3076923076923077, 'pnn50': 0.5, 'hr_mad': 62.5, 'sd1': 127.50079610396119, 'sd2': -4.550529944970208, 's': 56564.10104578933, 'sd1/sd2': 0.9025461633723375, 'breathingrate': 0.30185220143682173}}, '1647269598.00': {'perc': {'bpm': 1.116485403548941, 'ibi': 0.8956677774929506, 'sdnn': 1.7204631309005423, 'sdsd': 1.3276998759185876, 'rmssd': 1.2317323790208206, 'pnn20': 1.1818181818181819, 'pnn50': 0.9696969696969697, 'hr_mad': 2.3333333333333335, 'sd1': 1.2323364141144897, 'sd2': 2.715996398519924, 's': 3.347021262499912, 'sd1/sd2': 0.4537327128953664, 'breathingrate': 1.140259549820368}, 'abs': {'bpm': 10.77840842476948, 'ibi': -67.65292553191489, 'sdnn': 58.403977532092014, 'sdsd': 24.287765551342957, 'rmssd': 30.616797878419334, 'pnn20': 0.13636363636363635, 'pnn50': -0.022727272727272707, 'hr_mad': 62.5, 'sd1': 21.6677963287067, 'sd2': 100.7698532936349, 's': 40381.14354966971, 'sd1/sd2': -0.8675377906322614, 'breathingrate': 0.03607498709371604}}, '1646752964.00': {'perc': {'bpm': 0.7887429643527204, 'ibi': 1.2678401522359657, 'sdnn': 1.6752533626890893, 'sdsd': 0.8288714705031907, 'rmssd': 1.6501243034142206, 'pnn20': 1.4285714285714286, 'pnn50': 3.0, 'hr_mad': 7.5, 'sd1': 1.661722883276486, 'sd2': 1.8665389256116398, 's': 3.1016704452151687, 'sd1/sd2': 0.8902696110299236, 'breathingrate': 1.9712809420812303}, 'abs': {'bpm': -30.874482088888826, 'ibi': 109.9609375, 'sdnn': 48.46425901790147, 'sdsd': -13.9110474430435, 'rmssd': 66.66333813168838, 'pnn20': 0.30000000000000004, 'pnn50': 0.6666666666666667, 'hr_mad': 101.5625, 'sd1': 47.49135230781036, 'sd2': 57.14175947798519, 's': 31247.72507880681, 'sd1/sd2': -0.11942624268887558, 'breathingrate': 0.11841279391420058}}, '1646754723.00': {'perc': {'bpm': 1.053153153153153, 'ibi': 0.9495295124037638, 'sdnn': 3.1889735790527984, 'sdsd': 3.4516306031930624, 'rmssd': 3.2723662206144017, 'pnn20': 1.4034090909090908, 'pnn50': 3.3238636363636362, 'hr_mad': 2.0, 'sd1': 3.2301953395759493, 'sd2': 3.044893467226103, 's': 9.835600687339012, 'sd1/sd2': 1.0608566028152888, 'breathingrate': 0.7521369762441661}, 'abs': {'bpm': 4.444379055157498, 'ibi': -36.21651785714289, 'sdnn': 78.88434968536379, 'sdsd': 65.00511159174428, 'rmssd': 101.70470311542152, 'pnn20': 0.24825174825174823, 'pnn50': 0.47668997668997665, 'hr_mad': 31.25, 'sd1': 70.58145677109655, 'sd2': 80.27156367074788, 's': 34484.561055363156, 'sd1/sd2': 0.04906416175826889, 'breathingrate': -0.05184515051542629}}, '1646755454.00': {'perc': {'bpm': 1.0042541320873142, 'ibi': 0.995763888888889, 'sdnn': 0.8979594897720047, 'sdsd': 1.3959174421876412, 'rmssd': 0.8869685939836238, 'pnn20': 0.9090909090909091, 'pnn50': 0.8181818181818182, 'hr_mad': 0.625, 'sd1': 0.8947069306465204, 'sd2': 0.8960876599355708, 's': 0.8017358398111775, 'sd1/sd2': 0.998459158237767, 'breathingrate': 0.7832259188294723}, 'abs': {'bpm': 0.3686914475672296, 'ibi': -2.932692307692264, 'sdnn': -14.100423899541084, 'sdsd': 31.54360567947697, 'rmssd': -24.662463845271645, 'pnn20': -0.09090909090909094, 'pnn50': -0.18181818181818177, 'hr_mad': -46.875, 'sd1': -16.104477393022506, 'sd2': -11.227664175777775, 's': -10293.503745540373, 'sd1/sd2': -0.002181135277081525, 'breathingrate': -0.04820951432681589}}, '1646756026.00': {'perc': {'bpm': 1.0886402753872633, 'ibi': 0.9185770750988143, 'sdnn': 1.8942654357754942, 'sdsd': 1.2356449652607502, 'rmssd': 0.9969720630047815, 'pnn20': 0.7, 'pnn50': 0.5454545454545455, 'hr_mad': 1.3333333333333333, 'sd1': 0.9959927954185247, 'sd2': 2.2397474811360536, 's': 2.230772354768298, 'sd1/sd2': 0.444689771417148, 'breathingrate': 0.5206370198930952}, 'abs': {'bpm': 6.188702863401659, 'ibi': -69.9728260869565, 'sdnn': 39.7452407446783, 'sdsd': 7.147833147199599, 'rmssd': -0.15243526835364918, 'pnn20': -0.2142857142857143, 'pnn50': -0.1515151515151515, 'hr_mad': 7.8125, 'sd1': -0.1420858447343818, 'sd2': 59.10041719214168, 's': 6535.7317035431115, 'sd1/sd2': -0.4130357653449422, 'breathingrate': -0.10147395853236765}}, '1646756620.00': {'perc': {'bpm': 0.6049049820236261, 'ibi': 1.6531521969857779, 'sdnn': 0.8716409102057451, 'sdsd': 0.7370576424228761, 'rmssd': 0.7102835986151549, 'pnn20': 0.9810606060606061, 'pnn50': 0.9249999999999999, 'hr_mad': 0.6666666666666666, 'sd1': 0.6528485517685442, 'sd2': 0.6550158115358009, 's': 0.42762612394664523, 'sd1/sd2': 0.9966912863337221, 'breathingrate': 0.7601012841381806}, 'abs': {'bpm': -49.59528546603873, 'ibi': 312.1956168831169, 'sdnn': -15.32994652520982, 'sdsd': -23.484336984971364, 'rmssd': -46.725134057601636, 'pnn20': -0.016891891891891886, 'pnn50': -0.060810810810810856, 'hr_mad': -31.25, 'sd1': -39.301405717873024, 'sd2': -44.005097840118864, 's': -25967.047935493127, 'sd1/sd2': -0.002936597927512996, 'breathingrate': -0.0570834045262027}}, '1646757051.00': {'perc': {'bpm': 0.7633195737736392, 'ibi': 1.310067282902597, 'sdnn': 1.2113669038615773, 'sdsd': 1.228246424801694, 'rmssd': 0.8991286530362292, 'pnn20': 0.8128342245989305, 'pnn50': 0.806060606060606, 'hr_mad': 0.7692307692307693, 'sd1': 0.8979814651202775, 'sd2': 1.8555710734187458, 's': 1.6662684311433718, 'sd1/sd2': 0.48393805981563204, 'breathingrate': 0.5892563287572418}, 'abs': {'bpm': -23.88860502700473, 'ibi': 184.32266746411483, 'sdnn': 28.48813256130788, 'sdsd': 24.212914564196055, 'rmssd': -19.187896663235705, 'pnn20': -0.16746411483253587, 'pnn50': -0.15311004784688997, 'hr_mad': -23.4375, 'sd1': -13.709367012368489, 'sd2': 104.41211595397644, 's': 34326.7141837844, 'sd1/sd2': -0.5682577238769879, 'breathingrate': -0.09427934305495597}}, '1646757757.00': {'perc': {'bpm': 1.057742782152231, 'ibi': 0.945409429280397, 'sdnn': 0.6052402741669494, 'sdsd': 0.7351937064964009, 'rmssd': 0.6979824404521128, 'pnn20': 0.5128205128205129, 'pnn50': 0.7692307692307693, 'hr_mad': 0.6666666666666666, 'sd1': 0.7403221751892368, 'sd2': 0.5315458454652692, 's': 0.39351517652765006, 'sd1/sd2': 1.3927720092351075, 'breathingrate': 1.0575581883875305}, 'abs': {'bpm': 3.8514292413200195, 'ibi': -49.10714285714289, 'sdnn': -27.15917836756084, 'sdsd': -8.439077861856436, 'rmssd': -14.157073103807214, 'pnn20': -0.29230769230769227, 'pnn50': -0.046153846153846156, 'hr_mad': -15.625, 'sd1': -8.114932025336348, 'sd2': -43.22901689710336, 's': -5494.498968395175, 'sd1/sd2': 0.1330093857653376, 'breathingrate': 0.009146383026780613}}, '1646758277.00': {'perc': {'bpm': 1.1464829586657, 'ibi': 0.8722327640733712, 'sdnn': 0.4432058996818922, 'sdsd': 0.7128724322573541, 'rmssd': 0.34879483286676927, 'pnn20': 0.5769230769230769, 'pnn50': 0.2692307692307692, 'hr_mad': 0.1111111111111111, 'sd1': 0.36417156043978954, 'sd2': 0.4583776193104368, 's': 0.1669280928949576, 'sd1/sd2': 0.7944793661340473, 'breathingrate': 1.1095890410958904}, 'abs': {'bpm': 11.02930512306446, 'ibi': -101.81451612903231, 'sdnn': -90.82970421365835, 'sdsd': -28.17496409082922, 'rmssd': -161.7165758205883, 'pnn20': -0.42307692307692313, 'pnn50': -0.7307692307692308, 'hr_mad': -125.0, 'sd1': -106.87206175481705, 'sd2': -68.60652228486842, 's': -55721.834240844, 'sd1/sd2': -0.2727161553957196, 'breathingrate': 0.013758824996345315}}, '1646230801.00': {'perc': {'bpm': 1.0775058275058276, 'ibi': 0.9280692266089777, 'sdnn': 0.8105443840777234, 'sdsd': 0.8052426442360865, 'rmssd': 0.6713994355616774, 'pnn20': 0.6666666666666666, 'pnn50': 0.43478260869565216, 'hr_mad': 0.6666666666666666, 'sd1': 0.6659238285679115, 'sd2': 0.6980890787752562, 's': 0.464874152019465, 'sd1/sd2': 0.9539238598836467, 'breathingrate': 1.6011644832605534}, 'abs': {'bpm': 6.2775947686710225, 'ibi': -53.285256410256466, 'sdnn': -16.755299513382013, 'sdsd': -10.05967148368557, 'rmssd': -28.343326032718146, 'pnn20': -0.26315789473684215, 'pnn50': -0.34210526315789475, 'hr_mad': -15.625, 'sd1': -20.374796029188865, 'sd2': -33.467917318159664, 's': -11365.889660380524, 'sd1/sd2': -0.025349768407692763, 'breathingrate': 0.10409774601914343}}, '1646231516.00': {'perc': {'bpm': 0.4918610960390667, 'ibi': 2.0330943188086046, 'sdnn': 3.8211206677544545, 'sdsd': 2.6696533820569046, 'rmssd': 2.040670395810079, 'pnn20': 1.0384615384615385, 'pnn50': 3.5000000000000004, 'hr_mad': 3.5, 'sd1': 1.8212048219818957, 'sd2': 4.993054278212216, 's': 9.09337452789742, 'sd1/sd2': 0.36474765153844585, 'breathingrate': 0.33347083573962544}, 'abs': {'bpm': -71.57107033395694, 'ibi': 440.0845864661654, 'sdnn': 98.9202094229662, 'sdsd': 33.95940048459997, 'rmssd': 45.83159720882039, 'pnn20': 0.02777777777777779, 'pnn50': 0.41666666666666674, 'hr_mad': 39.0625, 'sd1': 25.16779414951299, 'sd2': 128.31938057642458, 's': 25041.492751241956, 'sd1/sd2': -0.6058329649706863, 'breathingrate': -0.1649008323256741}}, '1646232320.00': {'perc': {'bpm': 1.199979255263977, 'ibi': 0.8333477396490621, 'sdnn': 1.1537635226457124, 'sdsd': 1.2309260525682182, 'rmssd': 1.225639345022367, 'pnn20': 0.8502024291497976, 'pnn50': 1.2469635627530364, 'hr_mad': 1.4, 'sd1': 1.2540380389362875, 'sd2': 1.2325685737238377, 's': 1.545687877047138, 'sd1/sd2': 1.0174184752638842, 'breathingrate': 0.6932037692556603}, 'abs': {'bpm': 15.775699500744736, 'ibi': -126.7531556802245, 'sdnn': 20.21563657735493, 'sdsd': 20.593818012186162, 'rmssd': 28.742796978836196, 'pnn20': -0.13909774436090228, 'pnn50': 0.11466165413533835, 'hr_mad': 31.25, 'sd1': 22.34881624441543, 'sd2': 34.7285151442818, 's': 22520.868617569235, 'sd1/sd2': 0.01026196960078285, 'breathingrate': -0.09113403841334086}}, '1646233411.00': {'perc': {'bpm': 1.297776442307692, 'ibi': 0.7705487381338273, 'sdnn': 3.011952152808809, 'sdsd': 2.3290314141619084, 'rmssd': 1.392258072959232, 'pnn20': 0.8, 'pnn50': 0.8823529411764705, 'hr_mad': 0.5714285714285714, 'sd1': 1.2346746914998843, 'sd2': 1.8717375244793846, 's': 2.310986950605341, 'sd1/sd2': 0.6596409354155057, 'breathingrate': 0.48205769551442385}, 'abs': {'bpm': 16.061588330632084, 'ibi': -255.2369505494505, 'sdnn': 103.53928673804255, 'sdsd': 48.04832274822282, 'rmssd': 34.212959317328654, 'pnn20': -0.19999999999999996, 'pnn50': -0.08000000000000007, 'hr_mad': -23.4375, 'sd1': 14.464088751424441, 'sd2': 33.02892432136964, 's': 9617.933121926053, 'sd1/sd2': -0.5536731391454293, 'breathingrate': -0.17916299577487158}}}\n",
      "dict_keys(['1647264808.00', '1647265213.00', '1647265691.00', '1647267334.00', '1647267651.00', '1647268069.00', '1647268497.00', '1647268988.00', '1647269598.00', '1646752964.00', '1646754723.00', '1646755454.00', '1646756026.00', '1646756620.00', '1646757051.00', '1646757757.00', '1646758277.00', '1646230801.00', '1646231516.00', '1646232320.00', '1646233411.00'])\n",
      "dict_values([{'perc': {'bpm': 0.9950476190476192, 'ibi': 1.0049770290964777, 'sdnn': 0.43406973434965723, 'sdsd': 0.5704596737172418, 'rmssd': 0.6074153845190294, 'pnn20': 0.892156862745098, 'pnn50': 0.5634674922600619, 'hr_mad': 1.0, 'sd1': 0.6090306885879413, 'sd2': 0.3410449266596469, 's': 0.20770682652294867, 'sd1/sd2': 1.7857784736840157, 'breathingrate': 1.1192375237816479}, 'abs': {'bpm': -0.39315685845546966, 'ibi': 3.7615740740740193, 'sdnn': -59.25233280684644, 'sdsd': -26.189162302888015, 'rmssd': -42.13945456193218, 'pnn20': -0.09954751131221728, 'pnn50': -0.3190045248868778, 'hr_mad': 0.0, 'sd1': -29.59578852758935, 'sd2': -83.14489556231314, 's': -23774.030684350437, 'sd1/sd2': 0.4714195480020613, 'breathingrate': 0.023386785090055484}}, {'perc': {'bpm': 1.0393984962406015, 'ibi': 0.9620949074074074, 'sdnn': 0.510018021058691, 'sdsd': 0.4232073695151589, 'rmssd': 0.6132441406718666, 'pnn20': 1.35, 'pnn50': 1.2, 'hr_mad': 1.0, 'sd1': 0.6248199740725324, 'sd2': 0.43603010147093424, 's': 0.27244031669591284, 'sd1/sd2': 1.4329744023743345, 'breathingrate': 1.2129467296021579}, 'abs': {'bpm': 3.677192982456134, 'ibi': -24.36755952380952, 'sdnn': -42.21776397790996, 'sdsd': -52.16294857206149, 'rmssd': -46.22052360258981, 'pnn20': 0.2333333333333334, 'pnn50': 0.08333333333333331, 'hr_mad': 0.0, 'sd1': -31.088946152233248, 'sd2': -46.96305693826108, 's': -15771.943894269454, 'sd1/sd2': 0.43085196605175746, 'breathingrate': 0.02367653208829862}}, {'perc': {'bpm': 0.5545822102425876, 'ibi': 1.8031591737545567, 'sdnn': 0.67770060301667, 'sdsd': 0.45336716801697474, 'rmssd': 0.49284129334680515, 'pnn20': 0.7352941176470588, 'pnn50': 0.771604938271605, 'hr_mad': 1.2, 'sd1': 0.49205988851388566, 'sd2': 0.7661507949520744, 's': 0.37699207474894264, 'sd1/sd2': 0.6422494001910758, 'breathingrate': 2.450435556685954}, 'abs': {'bpm': -58.19115523051882, 'ibi': 368.86160714285717, 'sdnn': -27.594052871083434, 'sdsd': -35.66229411912301, 'rmssd': -46.26086027278998, 'pnn20': -0.18000000000000005, 'pnn50': -0.0822222222222222, 'hr_mad': 7.8125, 'sd1': -32.75869167946293, 'sd2': -23.69887482367527, 's': -12792.319911542447, 'sd1/sd2': -0.22766830803381338, 'breathingrate': 0.11290950931698225}}, {'perc': {'bpm': 0.8703296703296705, 'ibi': 1.148989898989899, 'sdnn': 1.9408640965548172, 'sdsd': 2.632402048073948, 'rmssd': 2.0336723997590163, 'pnn20': 1.0161290322580647, 'pnn50': 1.241935483870968, 'hr_mad': 1.5, 'sd1': 2.0648657962198835, 'sd2': 1.824070965697568, 's': 3.766461746946681, 'sd1/sd2': 1.1320095736682207, 'breathingrate': 0.8701609497442636}, 'abs': {'bpm': -13.412365412365403, 'ibi': 86.42578125, 'sdnn': 28.88054681663943, 'sdsd': 52.55097577234867, 'rmssd': 53.21826630626977, 'pnn20': 0.009216589861751223, 'pnn50': 0.06912442396313367, 'hr_mad': 7.8125, 'sd1': 38.17919055487298, 'sd2': 19.29225268624399, 's': 7294.990147426961, 'sd1/sd2': 0.20217103707092976, 'breathingrate': -0.056013395278574796}}, {'perc': {'bpm': 0.9380549909061732, 'ibi': 1.0660355839416058, 'sdnn': 0.5995765022647865, 'sdsd': 0.43269266079477764, 'rmssd': 0.39448526599135986, 'pnn20': 0.9777777777777777, 'pnn50': 0.6337448559670781, 'hr_mad': 0.42857142857142855, 'sd1': 0.40230863902775066, 'sd2': 0.7815509965783828, 's': 0.3144247177642315, 'sd1/sd2': 0.5147567347352268, 'breathingrate': 1.9054830519798671}, 'abs': {'bpm': -5.642873821101887, 'ibi': 43.49459134615381, 'sdnn': -68.9690361084028, 'sdsd': -90.1022197130952, 'rmssd': -166.48331716153558, 'pnn20': -0.02020202020202022, 'pnn50': -0.29966329966329974, 'hr_mad': -62.5, 'sd1': -113.9392175081407, 'sd2': -32.59889881339812, 's': -61270.883105338886, 'sd1/sd2': -0.619873268708684, 'breathingrate': 0.10583018372836221}}, {'perc': {'bpm': 0.9025270758122743, 'ibi': 1.108, 'sdnn': 1.0686647951740735, 'sdsd': 0.986647449686793, 'rmssd': 0.7825551626191194, 'pnn20': 0.7727272727272727, 'pnn50': 0.787878787878788, 'hr_mad': 0.7692307692307693, 'sd1': 0.803464877653879, 'sd2': 2.0819312670483283, 's': 1.67275865076277, 'sd1/sd2': 0.38592286420338767, 'breathingrate': 0.8662582360420762}, 'abs': {'bpm': -9.357400722021666, 'ibi': 67.5, 'sdnn': 8.960376551981938, 'sdsd': -1.8150823318622997, 'rmssd': -53.854520350567356, 'pnn20': -0.2272727272727273, 'pnn50': -0.15909090909090906, 'hr_mad': -23.4375, 'sd1': -33.441912051904524, 'sd2': 76.24918445426366, 's': 25345.194111940633, 'sd1/sd2': -1.482648912044366, 'breathingrate': -0.02676976860646993}}, {'perc': {'bpm': 1.0421270718232045, 'ibi': 0.9595758780649437, 'sdnn': 0.8824727995964522, 'sdsd': 0.9929083705024573, 'rmssd': 1.0046917444325731, 'pnn20': 1.0875000000000001, 'pnn50': 1.0285714285714287, 'hr_mad': 1.25, 'sd1': 1.0340677301816685, 'sd2': 0.6575050183550015, 's': 0.6799047219134128, 'sd1/sd2': 1.5727145821164705, 'breathingrate': 1.3896505970809376}, 'abs': {'bpm': 3.537669013543052, 'ibi': -28.88257575757575, 'sdnn': -15.895477887491793, 'sdsd': -0.6650682236613648, 'rmssd': 0.8203422444970272, 'pnn20': 0.07777777777777783, 'pnn50': 0.022222222222222254, 'hr_mad': 15.625, 'sd1': 4.080172908771104, 'sd2': -53.365981509166616, 's': -18766.13336017565, 'sd1/sd2': 0.4402134636300413, 'breathingrate': 0.09921084585128903}}, {'perc': {'bpm': 1.817241379310345, 'ibi': 0.5502846299810247, 'sdnn': 1.5399844089221062, 'sdsd': 3.7171124877822193, 'rmssd': 4.349980470885746, 'pnn20': 1.5333333333333334, 'pnn50': 2.625, 'hr_mad': 1.8, 'sd1': 4.364462755479857, 'sd2': 0.9690686699715793, 's': 4.22946411759336, 'sd1/sd2': 4.503770362948436, 'breathingrate': 4.927097140693051}, 'abs': {'bpm': 52.742973051289496, 'ibi': -418.09475806451616, 'sdnn': 56.441398532301235, 'sdsd': 97.22152213875593, 'rmssd': 180.44916094652197, 'pnn20': 0.3076923076923077, 'pnn50': 0.5, 'hr_mad': 62.5, 'sd1': 127.50079610396119, 'sd2': -4.550529944970208, 's': 56564.10104578933, 'sd1/sd2': 0.9025461633723375, 'breathingrate': 0.30185220143682173}}, {'perc': {'bpm': 1.116485403548941, 'ibi': 0.8956677774929506, 'sdnn': 1.7204631309005423, 'sdsd': 1.3276998759185876, 'rmssd': 1.2317323790208206, 'pnn20': 1.1818181818181819, 'pnn50': 0.9696969696969697, 'hr_mad': 2.3333333333333335, 'sd1': 1.2323364141144897, 'sd2': 2.715996398519924, 's': 3.347021262499912, 'sd1/sd2': 0.4537327128953664, 'breathingrate': 1.140259549820368}, 'abs': {'bpm': 10.77840842476948, 'ibi': -67.65292553191489, 'sdnn': 58.403977532092014, 'sdsd': 24.287765551342957, 'rmssd': 30.616797878419334, 'pnn20': 0.13636363636363635, 'pnn50': -0.022727272727272707, 'hr_mad': 62.5, 'sd1': 21.6677963287067, 'sd2': 100.7698532936349, 's': 40381.14354966971, 'sd1/sd2': -0.8675377906322614, 'breathingrate': 0.03607498709371604}}, {'perc': {'bpm': 0.7887429643527204, 'ibi': 1.2678401522359657, 'sdnn': 1.6752533626890893, 'sdsd': 0.8288714705031907, 'rmssd': 1.6501243034142206, 'pnn20': 1.4285714285714286, 'pnn50': 3.0, 'hr_mad': 7.5, 'sd1': 1.661722883276486, 'sd2': 1.8665389256116398, 's': 3.1016704452151687, 'sd1/sd2': 0.8902696110299236, 'breathingrate': 1.9712809420812303}, 'abs': {'bpm': -30.874482088888826, 'ibi': 109.9609375, 'sdnn': 48.46425901790147, 'sdsd': -13.9110474430435, 'rmssd': 66.66333813168838, 'pnn20': 0.30000000000000004, 'pnn50': 0.6666666666666667, 'hr_mad': 101.5625, 'sd1': 47.49135230781036, 'sd2': 57.14175947798519, 's': 31247.72507880681, 'sd1/sd2': -0.11942624268887558, 'breathingrate': 0.11841279391420058}}, {'perc': {'bpm': 1.053153153153153, 'ibi': 0.9495295124037638, 'sdnn': 3.1889735790527984, 'sdsd': 3.4516306031930624, 'rmssd': 3.2723662206144017, 'pnn20': 1.4034090909090908, 'pnn50': 3.3238636363636362, 'hr_mad': 2.0, 'sd1': 3.2301953395759493, 'sd2': 3.044893467226103, 's': 9.835600687339012, 'sd1/sd2': 1.0608566028152888, 'breathingrate': 0.7521369762441661}, 'abs': {'bpm': 4.444379055157498, 'ibi': -36.21651785714289, 'sdnn': 78.88434968536379, 'sdsd': 65.00511159174428, 'rmssd': 101.70470311542152, 'pnn20': 0.24825174825174823, 'pnn50': 0.47668997668997665, 'hr_mad': 31.25, 'sd1': 70.58145677109655, 'sd2': 80.27156367074788, 's': 34484.561055363156, 'sd1/sd2': 0.04906416175826889, 'breathingrate': -0.05184515051542629}}, {'perc': {'bpm': 1.0042541320873142, 'ibi': 0.995763888888889, 'sdnn': 0.8979594897720047, 'sdsd': 1.3959174421876412, 'rmssd': 0.8869685939836238, 'pnn20': 0.9090909090909091, 'pnn50': 0.8181818181818182, 'hr_mad': 0.625, 'sd1': 0.8947069306465204, 'sd2': 0.8960876599355708, 's': 0.8017358398111775, 'sd1/sd2': 0.998459158237767, 'breathingrate': 0.7832259188294723}, 'abs': {'bpm': 0.3686914475672296, 'ibi': -2.932692307692264, 'sdnn': -14.100423899541084, 'sdsd': 31.54360567947697, 'rmssd': -24.662463845271645, 'pnn20': -0.09090909090909094, 'pnn50': -0.18181818181818177, 'hr_mad': -46.875, 'sd1': -16.104477393022506, 'sd2': -11.227664175777775, 's': -10293.503745540373, 'sd1/sd2': -0.002181135277081525, 'breathingrate': -0.04820951432681589}}, {'perc': {'bpm': 1.0886402753872633, 'ibi': 0.9185770750988143, 'sdnn': 1.8942654357754942, 'sdsd': 1.2356449652607502, 'rmssd': 0.9969720630047815, 'pnn20': 0.7, 'pnn50': 0.5454545454545455, 'hr_mad': 1.3333333333333333, 'sd1': 0.9959927954185247, 'sd2': 2.2397474811360536, 's': 2.230772354768298, 'sd1/sd2': 0.444689771417148, 'breathingrate': 0.5206370198930952}, 'abs': {'bpm': 6.188702863401659, 'ibi': -69.9728260869565, 'sdnn': 39.7452407446783, 'sdsd': 7.147833147199599, 'rmssd': -0.15243526835364918, 'pnn20': -0.2142857142857143, 'pnn50': -0.1515151515151515, 'hr_mad': 7.8125, 'sd1': -0.1420858447343818, 'sd2': 59.10041719214168, 's': 6535.7317035431115, 'sd1/sd2': -0.4130357653449422, 'breathingrate': -0.10147395853236765}}, {'perc': {'bpm': 0.6049049820236261, 'ibi': 1.6531521969857779, 'sdnn': 0.8716409102057451, 'sdsd': 0.7370576424228761, 'rmssd': 0.7102835986151549, 'pnn20': 0.9810606060606061, 'pnn50': 0.9249999999999999, 'hr_mad': 0.6666666666666666, 'sd1': 0.6528485517685442, 'sd2': 0.6550158115358009, 's': 0.42762612394664523, 'sd1/sd2': 0.9966912863337221, 'breathingrate': 0.7601012841381806}, 'abs': {'bpm': -49.59528546603873, 'ibi': 312.1956168831169, 'sdnn': -15.32994652520982, 'sdsd': -23.484336984971364, 'rmssd': -46.725134057601636, 'pnn20': -0.016891891891891886, 'pnn50': -0.060810810810810856, 'hr_mad': -31.25, 'sd1': -39.301405717873024, 'sd2': -44.005097840118864, 's': -25967.047935493127, 'sd1/sd2': -0.002936597927512996, 'breathingrate': -0.0570834045262027}}, {'perc': {'bpm': 0.7633195737736392, 'ibi': 1.310067282902597, 'sdnn': 1.2113669038615773, 'sdsd': 1.228246424801694, 'rmssd': 0.8991286530362292, 'pnn20': 0.8128342245989305, 'pnn50': 0.806060606060606, 'hr_mad': 0.7692307692307693, 'sd1': 0.8979814651202775, 'sd2': 1.8555710734187458, 's': 1.6662684311433718, 'sd1/sd2': 0.48393805981563204, 'breathingrate': 0.5892563287572418}, 'abs': {'bpm': -23.88860502700473, 'ibi': 184.32266746411483, 'sdnn': 28.48813256130788, 'sdsd': 24.212914564196055, 'rmssd': -19.187896663235705, 'pnn20': -0.16746411483253587, 'pnn50': -0.15311004784688997, 'hr_mad': -23.4375, 'sd1': -13.709367012368489, 'sd2': 104.41211595397644, 's': 34326.7141837844, 'sd1/sd2': -0.5682577238769879, 'breathingrate': -0.09427934305495597}}, {'perc': {'bpm': 1.057742782152231, 'ibi': 0.945409429280397, 'sdnn': 0.6052402741669494, 'sdsd': 0.7351937064964009, 'rmssd': 0.6979824404521128, 'pnn20': 0.5128205128205129, 'pnn50': 0.7692307692307693, 'hr_mad': 0.6666666666666666, 'sd1': 0.7403221751892368, 'sd2': 0.5315458454652692, 's': 0.39351517652765006, 'sd1/sd2': 1.3927720092351075, 'breathingrate': 1.0575581883875305}, 'abs': {'bpm': 3.8514292413200195, 'ibi': -49.10714285714289, 'sdnn': -27.15917836756084, 'sdsd': -8.439077861856436, 'rmssd': -14.157073103807214, 'pnn20': -0.29230769230769227, 'pnn50': -0.046153846153846156, 'hr_mad': -15.625, 'sd1': -8.114932025336348, 'sd2': -43.22901689710336, 's': -5494.498968395175, 'sd1/sd2': 0.1330093857653376, 'breathingrate': 0.009146383026780613}}, {'perc': {'bpm': 1.1464829586657, 'ibi': 0.8722327640733712, 'sdnn': 0.4432058996818922, 'sdsd': 0.7128724322573541, 'rmssd': 0.34879483286676927, 'pnn20': 0.5769230769230769, 'pnn50': 0.2692307692307692, 'hr_mad': 0.1111111111111111, 'sd1': 0.36417156043978954, 'sd2': 0.4583776193104368, 's': 0.1669280928949576, 'sd1/sd2': 0.7944793661340473, 'breathingrate': 1.1095890410958904}, 'abs': {'bpm': 11.02930512306446, 'ibi': -101.81451612903231, 'sdnn': -90.82970421365835, 'sdsd': -28.17496409082922, 'rmssd': -161.7165758205883, 'pnn20': -0.42307692307692313, 'pnn50': -0.7307692307692308, 'hr_mad': -125.0, 'sd1': -106.87206175481705, 'sd2': -68.60652228486842, 's': -55721.834240844, 'sd1/sd2': -0.2727161553957196, 'breathingrate': 0.013758824996345315}}, {'perc': {'bpm': 1.0775058275058276, 'ibi': 0.9280692266089777, 'sdnn': 0.8105443840777234, 'sdsd': 0.8052426442360865, 'rmssd': 0.6713994355616774, 'pnn20': 0.6666666666666666, 'pnn50': 0.43478260869565216, 'hr_mad': 0.6666666666666666, 'sd1': 0.6659238285679115, 'sd2': 0.6980890787752562, 's': 0.464874152019465, 'sd1/sd2': 0.9539238598836467, 'breathingrate': 1.6011644832605534}, 'abs': {'bpm': 6.2775947686710225, 'ibi': -53.285256410256466, 'sdnn': -16.755299513382013, 'sdsd': -10.05967148368557, 'rmssd': -28.343326032718146, 'pnn20': -0.26315789473684215, 'pnn50': -0.34210526315789475, 'hr_mad': -15.625, 'sd1': -20.374796029188865, 'sd2': -33.467917318159664, 's': -11365.889660380524, 'sd1/sd2': -0.025349768407692763, 'breathingrate': 0.10409774601914343}}, {'perc': {'bpm': 0.4918610960390667, 'ibi': 2.0330943188086046, 'sdnn': 3.8211206677544545, 'sdsd': 2.6696533820569046, 'rmssd': 2.040670395810079, 'pnn20': 1.0384615384615385, 'pnn50': 3.5000000000000004, 'hr_mad': 3.5, 'sd1': 1.8212048219818957, 'sd2': 4.993054278212216, 's': 9.09337452789742, 'sd1/sd2': 0.36474765153844585, 'breathingrate': 0.33347083573962544}, 'abs': {'bpm': -71.57107033395694, 'ibi': 440.0845864661654, 'sdnn': 98.9202094229662, 'sdsd': 33.95940048459997, 'rmssd': 45.83159720882039, 'pnn20': 0.02777777777777779, 'pnn50': 0.41666666666666674, 'hr_mad': 39.0625, 'sd1': 25.16779414951299, 'sd2': 128.31938057642458, 's': 25041.492751241956, 'sd1/sd2': -0.6058329649706863, 'breathingrate': -0.1649008323256741}}, {'perc': {'bpm': 1.199979255263977, 'ibi': 0.8333477396490621, 'sdnn': 1.1537635226457124, 'sdsd': 1.2309260525682182, 'rmssd': 1.225639345022367, 'pnn20': 0.8502024291497976, 'pnn50': 1.2469635627530364, 'hr_mad': 1.4, 'sd1': 1.2540380389362875, 'sd2': 1.2325685737238377, 's': 1.545687877047138, 'sd1/sd2': 1.0174184752638842, 'breathingrate': 0.6932037692556603}, 'abs': {'bpm': 15.775699500744736, 'ibi': -126.7531556802245, 'sdnn': 20.21563657735493, 'sdsd': 20.593818012186162, 'rmssd': 28.742796978836196, 'pnn20': -0.13909774436090228, 'pnn50': 0.11466165413533835, 'hr_mad': 31.25, 'sd1': 22.34881624441543, 'sd2': 34.7285151442818, 's': 22520.868617569235, 'sd1/sd2': 0.01026196960078285, 'breathingrate': -0.09113403841334086}}, {'perc': {'bpm': 1.297776442307692, 'ibi': 0.7705487381338273, 'sdnn': 3.011952152808809, 'sdsd': 2.3290314141619084, 'rmssd': 1.392258072959232, 'pnn20': 0.8, 'pnn50': 0.8823529411764705, 'hr_mad': 0.5714285714285714, 'sd1': 1.2346746914998843, 'sd2': 1.8717375244793846, 's': 2.310986950605341, 'sd1/sd2': 0.6596409354155057, 'breathingrate': 0.48205769551442385}, 'abs': {'bpm': 16.061588330632084, 'ibi': -255.2369505494505, 'sdnn': 103.53928673804255, 'sdsd': 48.04832274822282, 'rmssd': 34.212959317328654, 'pnn20': -0.19999999999999996, 'pnn50': -0.08000000000000007, 'hr_mad': -23.4375, 'sd1': 14.464088751424441, 'sd2': 33.02892432136964, 's': 9617.933121926053, 'sd1/sd2': -0.5536731391454293, 'breathingrate': -0.17916299577487158}}])\n"
     ]
    }
   ],
   "source": [
    "print(save_dict)\n",
    "print(save_dict.keys())\n",
    "print(save_dict.values())"
   ]
  },
  {
   "cell_type": "code",
   "execution_count": 25,
   "metadata": {},
   "outputs": [
    {
     "name": "stdout",
     "output_type": "stream",
     "text": [
      "<bound method NDFrame.keys of                                                             perc  \\\n",
      "1647264808.00  {'bpm': 0.9950476190476192, 'ibi': 1.004977029...   \n",
      "1647265213.00  {'bpm': 1.0393984962406015, 'ibi': 0.962094907...   \n",
      "1647265691.00  {'bpm': 0.5545822102425876, 'ibi': 1.803159173...   \n",
      "1647267334.00  {'bpm': 0.8703296703296705, 'ibi': 1.148989898...   \n",
      "1647267651.00  {'bpm': 0.9380549909061732, 'ibi': 1.066035583...   \n",
      "1647268069.00  {'bpm': 0.9025270758122743, 'ibi': 1.108, 'sdn...   \n",
      "1647268497.00  {'bpm': 1.0421270718232045, 'ibi': 0.959575878...   \n",
      "1647268988.00  {'bpm': 1.817241379310345, 'ibi': 0.5502846299...   \n",
      "1647269598.00  {'bpm': 1.116485403548941, 'ibi': 0.8956677774...   \n",
      "1646752964.00  {'bpm': 0.7887429643527204, 'ibi': 1.267840152...   \n",
      "1646754723.00  {'bpm': 1.053153153153153, 'ibi': 0.9495295124...   \n",
      "1646755454.00  {'bpm': 1.0042541320873142, 'ibi': 0.995763888...   \n",
      "1646756026.00  {'bpm': 1.0886402753872633, 'ibi': 0.918577075...   \n",
      "1646756620.00  {'bpm': 0.6049049820236261, 'ibi': 1.653152196...   \n",
      "1646757051.00  {'bpm': 0.7633195737736392, 'ibi': 1.310067282...   \n",
      "1646757757.00  {'bpm': 1.057742782152231, 'ibi': 0.9454094292...   \n",
      "1646758277.00  {'bpm': 1.1464829586657, 'ibi': 0.872232764073...   \n",
      "1646230801.00  {'bpm': 1.0775058275058276, 'ibi': 0.928069226...   \n",
      "1646231516.00  {'bpm': 0.4918610960390667, 'ibi': 2.033094318...   \n",
      "1646232320.00  {'bpm': 1.199979255263977, 'ibi': 0.8333477396...   \n",
      "1646233411.00  {'bpm': 1.297776442307692, 'ibi': 0.7705487381...   \n",
      "\n",
      "                                                             abs  \n",
      "1647264808.00  {'bpm': -0.39315685845546966, 'ibi': 3.7615740...  \n",
      "1647265213.00  {'bpm': 3.677192982456134, 'ibi': -24.36755952...  \n",
      "1647265691.00  {'bpm': -58.19115523051882, 'ibi': 368.8616071...  \n",
      "1647267334.00  {'bpm': -13.412365412365403, 'ibi': 86.4257812...  \n",
      "1647267651.00  {'bpm': -5.642873821101887, 'ibi': 43.49459134...  \n",
      "1647268069.00  {'bpm': -9.357400722021666, 'ibi': 67.5, 'sdnn...  \n",
      "1647268497.00  {'bpm': 3.537669013543052, 'ibi': -28.88257575...  \n",
      "1647268988.00  {'bpm': 52.742973051289496, 'ibi': -418.094758...  \n",
      "1647269598.00  {'bpm': 10.77840842476948, 'ibi': -67.65292553...  \n",
      "1646752964.00  {'bpm': -30.874482088888826, 'ibi': 109.960937...  \n",
      "1646754723.00  {'bpm': 4.444379055157498, 'ibi': -36.21651785...  \n",
      "1646755454.00  {'bpm': 0.3686914475672296, 'ibi': -2.93269230...  \n",
      "1646756026.00  {'bpm': 6.188702863401659, 'ibi': -69.97282608...  \n",
      "1646756620.00  {'bpm': -49.59528546603873, 'ibi': 312.1956168...  \n",
      "1646757051.00  {'bpm': -23.88860502700473, 'ibi': 184.3226674...  \n",
      "1646757757.00  {'bpm': 3.8514292413200195, 'ibi': -49.1071428...  \n",
      "1646758277.00  {'bpm': 11.02930512306446, 'ibi': -101.8145161...  \n",
      "1646230801.00  {'bpm': 6.2775947686710225, 'ibi': -53.2852564...  \n",
      "1646231516.00  {'bpm': -71.57107033395694, 'ibi': 440.0845864...  \n",
      "1646232320.00  {'bpm': 15.775699500744736, 'ibi': -126.753155...  \n",
      "1646233411.00  {'bpm': 16.061588330632084, 'ibi': -255.236950...  >\n"
     ]
    }
   ],
   "source": [
    "print(HR_df.k"
   ]
  }
 ],
 "metadata": {
  "interpreter": {
   "hash": "479f35b4960f94752270618dbc989f68d39e793e13288af48681f5dd2c9ade2e"
  },
  "kernelspec": {
   "display_name": "Python 3.8.8 ('base')",
   "language": "python",
   "name": "python3"
  },
  "language_info": {
   "codemirror_mode": {
    "name": "ipython",
    "version": 3
   },
   "file_extension": ".py",
   "mimetype": "text/x-python",
   "name": "python",
   "nbconvert_exporter": "python",
   "pygments_lexer": "ipython3",
   "version": "3.9.7"
  },
  "orig_nbformat": 4
 },
 "nbformat": 4,
 "nbformat_minor": 2
}
