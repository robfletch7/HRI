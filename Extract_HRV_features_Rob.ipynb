{
 "cells": [
  {
   "cell_type": "code",
   "execution_count": 1,
   "metadata": {},
   "outputs": [],
   "source": [
    "%matplotlib inline\n",
    "\n",
    "import os\n",
    "import csv\n",
    "import glob\n",
    "import numpy as np\n",
    "import matplotlib.pyplot as plt\n",
    "import heartpy as hp\n",
    "import pandas as pd\n",
    "pd.set_option(\"display.precision\", 2)\n",
    "from scipy.interpolate import interp1d\n",
    "from utils.process_ppg import load_PPG_signal, get_filtered_ppg, get_ppg_measures_batch\n",
    "\n",
    "%matplotlib inline"
   ]
  },
  {
   "cell_type": "code",
   "execution_count": 2,
   "metadata": {},
   "outputs": [
    {
     "name": "stdout",
     "output_type": "stream",
     "text": [
      "0\n",
      "1\n",
      "2\n",
      "An exception occurred\n",
      "3\n",
      "4\n",
      "5\n"
     ]
    },
    {
     "name": "stderr",
     "output_type": "stream",
     "text": [
      "C:\\Users\\Rob\\anaconda3\\envs\\HRI\\lib\\site-packages\\scipy\\interpolate\\_fitpack2.py:280: UserWarning: \n",
      "The maximal number of iterations maxit (set to 20 by the program)\n",
      "allowed for finding a smoothing spline with fp=s has been reached: s\n",
      "too small.\n",
      "There is an approximation returned but the corresponding weighted sum\n",
      "of squared residuals does not satisfy the condition abs(fp-s)/s < tol.\n",
      "  warnings.warn(message)\n"
     ]
    },
    {
     "name": "stdout",
     "output_type": "stream",
     "text": [
      "An exception occurred\n",
      "6\n",
      "7\n",
      "8\n",
      "9\n",
      "10\n",
      "An exception occurred\n",
      "11\n",
      "An exception occurred\n",
      "12\n",
      "13\n"
     ]
    },
    {
     "name": "stderr",
     "output_type": "stream",
     "text": [
      "C:\\Users\\Rob\\AppData\\Local\\Temp\\ipykernel_15560\\2200203270.py:10: RuntimeWarning: More than 20 figures have been opened. Figures created through the pyplot interface (`matplotlib.pyplot.figure`) are retained until explicitly closed and may consume too much memory. (To control this warning, see the rcParam `figure.max_open_warning`).\n",
      "  plt.figure(figsize=(12,4))\n",
      "C:\\Users\\Rob\\anaconda3\\envs\\HRI\\lib\\site-packages\\scipy\\interpolate\\_fitpack2.py:280: UserWarning: \n",
      "The maximal number of iterations maxit (set to 20 by the program)\n",
      "allowed for finding a smoothing spline with fp=s has been reached: s\n",
      "too small.\n",
      "There is an approximation returned but the corresponding weighted sum\n",
      "of squared residuals does not satisfy the condition abs(fp-s)/s < tol.\n",
      "  warnings.warn(message)\n",
      "C:\\Users\\Rob\\anaconda3\\envs\\HRI\\lib\\site-packages\\scipy\\interpolate\\_fitpack2.py:280: UserWarning: \n",
      "The maximal number of iterations maxit (set to 20 by the program)\n",
      "allowed for finding a smoothing spline with fp=s has been reached: s\n",
      "too small.\n",
      "There is an approximation returned but the corresponding weighted sum\n",
      "of squared residuals does not satisfy the condition abs(fp-s)/s < tol.\n",
      "  warnings.warn(message)\n",
      "C:\\Users\\Rob\\anaconda3\\envs\\HRI\\lib\\site-packages\\numpy\\ma\\core.py:5244: RuntimeWarning: Mean of empty slice.\n",
      "  result = super().mean(axis=axis, dtype=dtype, **kwargs)[()]\n",
      "C:\\Users\\Rob\\anaconda3\\envs\\HRI\\lib\\site-packages\\numpy\\core\\fromnumeric.py:3723: RuntimeWarning: Degrees of freedom <= 0 for slice\n",
      "  return _methods._var(a, axis=axis, dtype=dtype, out=out, ddof=ddof,\n"
     ]
    },
    {
     "name": "stdout",
     "output_type": "stream",
     "text": [
      "An exception occurred\n",
      "14\n",
      "An exception occurred\n",
      "15\n",
      "16\n",
      "17\n",
      "18\n",
      "19\n",
      "An exception occurred\n",
      "20\n",
      "21\n"
     ]
    },
    {
     "data": {
      "text/plain": [
       "<Figure size 864x288 with 0 Axes>"
      ]
     },
     "metadata": {},
     "output_type": "display_data"
    },
    {
     "data": {
      "text/plain": [
       "<Figure size 864x288 with 0 Axes>"
      ]
     },
     "metadata": {},
     "output_type": "display_data"
    },
    {
     "data": {
      "text/plain": [
       "<Figure size 864x288 with 0 Axes>"
      ]
     },
     "metadata": {},
     "output_type": "display_data"
    },
    {
     "data": {
      "text/plain": [
       "<Figure size 864x288 with 0 Axes>"
      ]
     },
     "metadata": {},
     "output_type": "display_data"
    },
    {
     "data": {
      "text/plain": [
       "<Figure size 864x288 with 0 Axes>"
      ]
     },
     "metadata": {},
     "output_type": "display_data"
    },
    {
     "data": {
      "text/plain": [
       "<Figure size 864x288 with 0 Axes>"
      ]
     },
     "metadata": {},
     "output_type": "display_data"
    },
    {
     "data": {
      "text/plain": [
       "<Figure size 864x288 with 0 Axes>"
      ]
     },
     "metadata": {},
     "output_type": "display_data"
    },
    {
     "data": {
      "text/plain": [
       "<Figure size 864x288 with 0 Axes>"
      ]
     },
     "metadata": {},
     "output_type": "display_data"
    },
    {
     "data": {
      "text/plain": [
       "<Figure size 864x288 with 0 Axes>"
      ]
     },
     "metadata": {},
     "output_type": "display_data"
    },
    {
     "data": {
      "text/plain": [
       "<Figure size 864x288 with 0 Axes>"
      ]
     },
     "metadata": {},
     "output_type": "display_data"
    },
    {
     "data": {
      "text/plain": [
       "<Figure size 864x288 with 0 Axes>"
      ]
     },
     "metadata": {},
     "output_type": "display_data"
    },
    {
     "data": {
      "text/plain": [
       "<Figure size 864x288 with 0 Axes>"
      ]
     },
     "metadata": {},
     "output_type": "display_data"
    },
    {
     "data": {
      "text/plain": [
       "<Figure size 864x288 with 0 Axes>"
      ]
     },
     "metadata": {},
     "output_type": "display_data"
    },
    {
     "data": {
      "text/plain": [
       "<Figure size 864x288 with 0 Axes>"
      ]
     },
     "metadata": {},
     "output_type": "display_data"
    },
    {
     "data": {
      "text/plain": [
       "<Figure size 864x288 with 0 Axes>"
      ]
     },
     "metadata": {},
     "output_type": "display_data"
    },
    {
     "data": {
      "text/plain": [
       "<Figure size 864x288 with 0 Axes>"
      ]
     },
     "metadata": {},
     "output_type": "display_data"
    },
    {
     "data": {
      "text/plain": [
       "<Figure size 864x288 with 0 Axes>"
      ]
     },
     "metadata": {},
     "output_type": "display_data"
    },
    {
     "data": {
      "text/plain": [
       "<Figure size 864x288 with 0 Axes>"
      ]
     },
     "metadata": {},
     "output_type": "display_data"
    },
    {
     "data": {
      "text/plain": [
       "<Figure size 864x288 with 0 Axes>"
      ]
     },
     "metadata": {},
     "output_type": "display_data"
    },
    {
     "data": {
      "text/plain": [
       "<Figure size 864x288 with 0 Axes>"
      ]
     },
     "metadata": {},
     "output_type": "display_data"
    },
    {
     "data": {
      "text/plain": [
       "<Figure size 864x288 with 0 Axes>"
      ]
     },
     "metadata": {},
     "output_type": "display_data"
    },
    {
     "data": {
      "text/plain": [
       "<Figure size 864x288 with 0 Axes>"
      ]
     },
     "metadata": {},
     "output_type": "display_data"
    },
    {
     "data": {
      "text/plain": [
       "<Figure size 864x288 with 0 Axes>"
      ]
     },
     "metadata": {},
     "output_type": "display_data"
    },
    {
     "data": {
      "text/plain": [
       "<Figure size 864x288 with 0 Axes>"
      ]
     },
     "metadata": {},
     "output_type": "display_data"
    },
    {
     "data": {
      "text/plain": [
       "<Figure size 864x288 with 0 Axes>"
      ]
     },
     "metadata": {},
     "output_type": "display_data"
    },
    {
     "data": {
      "text/plain": [
       "<Figure size 864x288 with 0 Axes>"
      ]
     },
     "metadata": {},
     "output_type": "display_data"
    },
    {
     "data": {
      "text/plain": [
       "<Figure size 864x288 with 0 Axes>"
      ]
     },
     "metadata": {},
     "output_type": "display_data"
    },
    {
     "data": {
      "text/plain": [
       "<Figure size 864x288 with 0 Axes>"
      ]
     },
     "metadata": {},
     "output_type": "display_data"
    },
    {
     "data": {
      "text/plain": [
       "<Figure size 864x288 with 0 Axes>"
      ]
     },
     "metadata": {},
     "output_type": "display_data"
    },
    {
     "data": {
      "text/plain": [
       "<Figure size 864x288 with 0 Axes>"
      ]
     },
     "metadata": {},
     "output_type": "display_data"
    },
    {
     "data": {
      "text/plain": [
       "<Figure size 864x288 with 0 Axes>"
      ]
     },
     "metadata": {},
     "output_type": "display_data"
    },
    {
     "data": {
      "text/plain": [
       "<Figure size 864x288 with 0 Axes>"
      ]
     },
     "metadata": {},
     "output_type": "display_data"
    },
    {
     "data": {
      "text/plain": [
       "<Figure size 864x288 with 0 Axes>"
      ]
     },
     "metadata": {},
     "output_type": "display_data"
    },
    {
     "data": {
      "text/plain": [
       "<Figure size 864x288 with 0 Axes>"
      ]
     },
     "metadata": {},
     "output_type": "display_data"
    }
   ],
   "source": [
    "def calc_HRV_measures(signal,sample_rate=64.0):\n",
    "    t_elapsed = np.arange(0,len(signal))\n",
    "    t_elapsed = t_elapsed/sample_rate\n",
    "    #filtered = get_filtered_ppg(signal, t_elapsed, sample_rate=sample_rate)\n",
    "    filtered = get_filtered_ppg(signal, sample_rate=sample_rate)\n",
    "    if len(filtered) > 30*sample_rate:\n",
    "        start_indx = int(((len(filtered)//2) - (15*sample_rate)))\n",
    "        end_indx = int(((len(filtered)//2) + (15*sample_rate)))\n",
    "        filtered = filtered[start_indx : end_indx]\n",
    "    plt.figure(figsize=(12,4))\n",
    "    x_axis = [i/sample_rate for i in range(len(filtered))]\n",
    "    #plt.plot(x_axis, filtered)\n",
    "    #plt.xlabel('Time(seconds)')\n",
    "    #plt.title('Filtered PPG Signal: ')\n",
    "\n",
    "    wd, m = hp.process(filtered, sample_rate = sample_rate)\n",
    "\n",
    "   # for measure in m.keys():\n",
    "   #     print(measure, m[measure])\n",
    "\n",
    "    return m\n",
    "\n",
    "def calc_diff(baseline_sig,game_sig):\n",
    "    base_dict = calc_HRV_measures(baseline_sig)\n",
    "    game_dict = calc_HRV_measures(game_sig)\n",
    "    diff = {}\n",
    "    for key in base_dict:\n",
    "        diff['perc_'+key] = game_dict[key]/base_dict[key]\n",
    "        diff['abs_'+key] = game_dict[key] - base_dict[key]\n",
    "\n",
    "    #print(perc_diff)\n",
    "    #print(abs_diff)\n",
    "    return diff\n",
    "\n",
    "\n",
    "\n",
    "folder = './Data'\n",
    "HR_path = folder+\"/**/HR.csv\"\n",
    "PPG_path = folder + \"/**/BVP.csv\"\n",
    "tag_path = folder + \"/**/tags.csv\"\n",
    "\n",
    "#Load raw PPG data\n",
    "PPG_csv_paths = glob.glob(PPG_path, recursive=True)\n",
    "\n",
    "#Load timestamp\n",
    "tag_csv_paths = glob.glob(tag_path,recursive=True)\n",
    "\n",
    "id_list = []\n",
    "df_list = []\n",
    "tag_list = []\n",
    "sample_rate = 0\n",
    "\n",
    "for csv_path in PPG_csv_paths:\n",
    "    curr_df = pd.read_csv(csv_path)\n",
    "    id_num = curr_df.columns.values.tolist()\n",
    "    id_list.append(id_num)\n",
    "    sample_rate = curr_df.iloc[0]\n",
    "    df_list.append(curr_df)\n",
    "\n",
    "for i,tag_path in enumerate(tag_csv_paths):\n",
    "    curr_tag_df = pd.read_csv(tag_path,names=id_list[i])\n",
    "    tag_list.append(curr_tag_df)\n",
    "\n",
    "merged_tag_df = pd.concat(tag_list,axis=1)\n",
    "merged_df = pd.concat(df_list,axis=1)\n",
    "diff_tag_df = merged_tag_df - merged_tag_df.iloc[0]\n",
    "#ppg_df = merged_df.iloc[1: , :]\n",
    "\n",
    "save_dict = {}\n",
    "HR_df = pd.DataFrame()\n",
    "\n",
    "for i,csv_path in enumerate(PPG_csv_paths):\n",
    "    print(i)\n",
    "    bvp_df = pd.read_csv(csv_path)\n",
    "    sample_rate = 64.0 \n",
    "    bvp_df = bvp_df.iloc[1:]\n",
    "    bvp_df\n",
    "    \n",
    "    id = id_list[i][0]\n",
    "    raw_signal = bvp_df.to_numpy()\n",
    "    t_elapsed = np.arange(0,len(raw_signal))\n",
    "    t_elapsed = t_elapsed/64\n",
    "    raw_signal = np.squeeze(raw_signal)\n",
    "    #Segment \n",
    "    times = diff_tag_df[id]\n",
    "    baseline_sig = raw_signal[t_elapsed<times[1]]\n",
    "    game_sig = raw_signal[(times[1]<t_elapsed) * (t_elapsed<times[2])]\n",
    "    post_game_sig = raw_signal[(times[2]<t_elapsed)]\n",
    "    try:\n",
    "        diff = calc_diff(baseline_sig,game_sig)\n",
    "        diff['id'] = id\n",
    "        \n",
    "        save_dict[i] = diff\n",
    "\n",
    "    except:\n",
    "        print(\"An exception occurred\")"
   ]
  },
  {
   "cell_type": "code",
   "execution_count": 34,
   "metadata": {},
   "outputs": [
    {
     "name": "stdout",
     "output_type": "stream",
     "text": [
      "{'a': 1, 'b': 2, 'c': 3}\n"
     ]
    }
   ],
   "source": [
    "A = {'a':1,'b':2,'c':3}\n",
    "print(A)"
   ]
  },
  {
   "cell_type": "code",
   "execution_count": 39,
   "metadata": {},
   "outputs": [
    {
     "name": "stdout",
     "output_type": "stream",
     "text": [
      "    perc_bpm  abs_bpm  perc_ibi  abs_ibi  perc_sdnn  abs_sdnn  perc_sdsd  \\\n",
      "0       1.00    -0.39      1.00     3.76       0.43    -59.25       0.57   \n",
      "1       1.04     3.68      0.96   -24.37       0.51    -42.22       0.42   \n",
      "2       0.55   -58.19      1.80   368.86       0.68    -27.59       0.45   \n",
      "3       0.87   -13.41      1.15    86.43       1.94     28.88       2.63   \n",
      "4       0.94    -5.64      1.07    43.49       0.60    -68.97       0.43   \n",
      "5       0.90    -9.36      1.11    67.50       1.07      8.96       0.99   \n",
      "6       1.04     3.54      0.96   -28.88       0.88    -15.90       0.99   \n",
      "7       1.82    52.74      0.55  -418.09       1.54     56.44       3.72   \n",
      "8       1.12    10.78      0.90   -67.65       1.72     58.40       1.33   \n",
      "9       0.79   -30.87      1.27   109.96       1.68     48.46       0.83   \n",
      "10      1.05     4.44      0.95   -36.22       3.19     78.88       3.45   \n",
      "11      1.00     0.37      1.00    -2.93       0.90    -14.10       1.40   \n",
      "12      1.09     6.19      0.92   -69.97       1.89     39.75       1.24   \n",
      "13      0.60   -49.60      1.65   312.20       0.87    -15.33       0.74   \n",
      "14      0.76   -23.89      1.31   184.32       1.21     28.49       1.23   \n",
      "15      1.06     3.85      0.95   -49.11       0.61    -27.16       0.74   \n",
      "16      1.15    11.03      0.87  -101.81       0.44    -90.83       0.71   \n",
      "17      1.08     6.28      0.93   -53.29       0.81    -16.76       0.81   \n",
      "18      0.49   -71.57      2.03   440.08       3.82     98.92       2.67   \n",
      "19      1.20    15.78      0.83  -126.75       1.15     20.22       1.23   \n",
      "20      1.30    16.06      0.77  -255.24       3.01    103.54       2.33   \n",
      "\n",
      "    abs_sdsd  perc_rmssd  abs_rmssd  ...  abs_sd1  perc_sd2  abs_sd2  perc_s  \\\n",
      "0     -26.19        0.61     -42.14  ...   -29.60      0.34   -83.14    0.21   \n",
      "1     -52.16        0.61     -46.22  ...   -31.09      0.44   -46.96    0.27   \n",
      "2     -35.66        0.49     -46.26  ...   -32.76      0.77   -23.70    0.38   \n",
      "3      52.55        2.03      53.22  ...    38.18      1.82    19.29    3.77   \n",
      "4     -90.10        0.39    -166.48  ...  -113.94      0.78   -32.60    0.31   \n",
      "5      -1.82        0.78     -53.85  ...   -33.44      2.08    76.25    1.67   \n",
      "6      -0.67        1.00       0.82  ...     4.08      0.66   -53.37    0.68   \n",
      "7      97.22        4.35     180.45  ...   127.50      0.97    -4.55    4.23   \n",
      "8      24.29        1.23      30.62  ...    21.67      2.72   100.77    3.35   \n",
      "9     -13.91        1.65      66.66  ...    47.49      1.87    57.14    3.10   \n",
      "10     65.01        3.27     101.70  ...    70.58      3.04    80.27    9.84   \n",
      "11     31.54        0.89     -24.66  ...   -16.10      0.90   -11.23    0.80   \n",
      "12      7.15        1.00      -0.15  ...    -0.14      2.24    59.10    2.23   \n",
      "13    -23.48        0.71     -46.73  ...   -39.30      0.66   -44.01    0.43   \n",
      "14     24.21        0.90     -19.19  ...   -13.71      1.86   104.41    1.67   \n",
      "15     -8.44        0.70     -14.16  ...    -8.11      0.53   -43.23    0.39   \n",
      "16    -28.17        0.35    -161.72  ...  -106.87      0.46   -68.61    0.17   \n",
      "17    -10.06        0.67     -28.34  ...   -20.37      0.70   -33.47    0.46   \n",
      "18     33.96        2.04      45.83  ...    25.17      4.99   128.32    9.09   \n",
      "19     20.59        1.23      28.74  ...    22.35      1.23    34.73    1.55   \n",
      "20     48.05        1.39      34.21  ...    14.46      1.87    33.03    2.31   \n",
      "\n",
      "       abs_s  perc_sd1/sd2  abs_sd1/sd2  perc_breathingrate  \\\n",
      "0  -23774.03          1.79     4.71e-01                1.12   \n",
      "1  -15771.94          1.43     4.31e-01                1.21   \n",
      "2  -12792.32          0.64    -2.28e-01                2.45   \n",
      "3    7294.99          1.13     2.02e-01                0.87   \n",
      "4  -61270.88          0.51    -6.20e-01                1.91   \n",
      "5   25345.19          0.39    -1.48e+00                0.87   \n",
      "6  -18766.13          1.57     4.40e-01                1.39   \n",
      "7   56564.10          4.50     9.03e-01                4.93   \n",
      "8   40381.14          0.45    -8.68e-01                1.14   \n",
      "9   31247.73          0.89    -1.19e-01                1.97   \n",
      "10  34484.56          1.06     4.91e-02                0.75   \n",
      "11 -10293.50          1.00    -2.18e-03                0.78   \n",
      "12   6535.73          0.44    -4.13e-01                0.52   \n",
      "13 -25967.05          1.00    -2.94e-03                0.76   \n",
      "14  34326.71          0.48    -5.68e-01                0.59   \n",
      "15  -5494.50          1.39     1.33e-01                1.06   \n",
      "16 -55721.83          0.79    -2.73e-01                1.11   \n",
      "17 -11365.89          0.95    -2.53e-02                1.60   \n",
      "18  25041.49          0.36    -6.06e-01                0.33   \n",
      "19  22520.87          1.02     1.03e-02                0.69   \n",
      "20   9617.93          0.66    -5.54e-01                0.48   \n",
      "\n",
      "    abs_breathingrate             id  \n",
      "0            2.34e-02  1647264808.00  \n",
      "1            2.37e-02  1647265213.00  \n",
      "2            1.13e-01  1647265691.00  \n",
      "3           -5.60e-02  1647267334.00  \n",
      "4            1.06e-01  1647267651.00  \n",
      "5           -2.68e-02  1647268069.00  \n",
      "6            9.92e-02  1647268497.00  \n",
      "7            3.02e-01  1647268988.00  \n",
      "8            3.61e-02  1647269598.00  \n",
      "9            1.18e-01  1646752964.00  \n",
      "10          -5.18e-02  1646754723.00  \n",
      "11          -4.82e-02  1646755454.00  \n",
      "12          -1.01e-01  1646756026.00  \n",
      "13          -5.71e-02  1646756620.00  \n",
      "14          -9.43e-02  1646757051.00  \n",
      "15           9.15e-03  1646757757.00  \n",
      "16           1.38e-02  1646758277.00  \n",
      "17           1.04e-01  1646230801.00  \n",
      "18          -1.65e-01  1646231516.00  \n",
      "19          -9.11e-02  1646232320.00  \n",
      "20          -1.79e-01  1646233411.00  \n",
      "\n",
      "[21 rows x 27 columns]\n",
      "Index(['perc_bpm', 'abs_bpm', 'perc_ibi', 'abs_ibi', 'perc_sdnn', 'abs_sdnn',\n",
      "       'perc_sdsd', 'abs_sdsd', 'perc_rmssd', 'abs_rmssd', 'perc_pnn20',\n",
      "       'abs_pnn20', 'perc_pnn50', 'abs_pnn50', 'perc_hr_mad', 'abs_hr_mad',\n",
      "       'perc_sd1', 'abs_sd1', 'perc_sd2', 'abs_sd2', 'perc_s', 'abs_s',\n",
      "       'perc_sd1/sd2', 'abs_sd1/sd2', 'perc_breathingrate',\n",
      "       'abs_breathingrate', 'id'],\n",
      "      dtype='object')\n"
     ]
    }
   ],
   "source": [
    "HR_df = pd.DataFrame.from_dict(save_dict,orient='index')\n",
    "print(HR_df)\n",
    "print(HR_df.columns)"
   ]
  },
  {
   "cell_type": "code",
   "execution_count": null,
   "metadata": {},
   "outputs": [],
   "source": [
    "HR_df.to_csv('Heart_rate_data_rob.csv')"
   ]
  },
  {
   "cell_type": "code",
   "execution_count": 32,
   "metadata": {},
   "outputs": [
    {
     "data": {
      "text/html": [
       "<div>\n",
       "<style scoped>\n",
       "    .dataframe tbody tr th:only-of-type {\n",
       "        vertical-align: middle;\n",
       "    }\n",
       "\n",
       "    .dataframe tbody tr th {\n",
       "        vertical-align: top;\n",
       "    }\n",
       "\n",
       "    .dataframe thead th {\n",
       "        text-align: right;\n",
       "    }\n",
       "</style>\n",
       "<table border=\"1\" class=\"dataframe\">\n",
       "  <thead>\n",
       "    <tr style=\"text-align: right;\">\n",
       "      <th></th>\n",
       "      <th>bpm</th>\n",
       "      <th>ibi</th>\n",
       "      <th>sdnn</th>\n",
       "      <th>sdsd</th>\n",
       "      <th>rmssd</th>\n",
       "      <th>pnn20</th>\n",
       "      <th>pnn50</th>\n",
       "      <th>hr_mad</th>\n",
       "      <th>sd1</th>\n",
       "      <th>sd2</th>\n",
       "      <th>s</th>\n",
       "      <th>sd1/sd2</th>\n",
       "      <th>breathingrate</th>\n",
       "    </tr>\n",
       "  </thead>\n",
       "  <tbody>\n",
       "    <tr>\n",
       "      <th>perc</th>\n",
       "      <td>1.00</td>\n",
       "      <td>1.00</td>\n",
       "      <td>0.43</td>\n",
       "      <td>0.57</td>\n",
       "      <td>0.61</td>\n",
       "      <td>0.89</td>\n",
       "      <td>0.56</td>\n",
       "      <td>1.0</td>\n",
       "      <td>0.61</td>\n",
       "      <td>0.34</td>\n",
       "      <td>0.21</td>\n",
       "      <td>1.79</td>\n",
       "      <td>1.12</td>\n",
       "    </tr>\n",
       "    <tr>\n",
       "      <th>abs</th>\n",
       "      <td>-0.39</td>\n",
       "      <td>3.76</td>\n",
       "      <td>-59.25</td>\n",
       "      <td>-26.19</td>\n",
       "      <td>-42.14</td>\n",
       "      <td>-0.10</td>\n",
       "      <td>-0.32</td>\n",
       "      <td>0.0</td>\n",
       "      <td>-29.60</td>\n",
       "      <td>-83.14</td>\n",
       "      <td>-23774.03</td>\n",
       "      <td>0.47</td>\n",
       "      <td>0.02</td>\n",
       "    </tr>\n",
       "  </tbody>\n",
       "</table>\n",
       "</div>"
      ],
      "text/plain": [
       "       bpm   ibi   sdnn   sdsd  rmssd  pnn20  pnn50  hr_mad    sd1    sd2  \\\n",
       "perc  1.00  1.00   0.43   0.57   0.61   0.89   0.56     1.0   0.61   0.34   \n",
       "abs  -0.39  3.76 -59.25 -26.19 -42.14  -0.10  -0.32     0.0 -29.60 -83.14   \n",
       "\n",
       "             s  sd1/sd2  breathingrate  \n",
       "perc      0.21     1.79           1.12  \n",
       "abs  -23774.03     0.47           0.02  "
      ]
     },
     "execution_count": 32,
     "metadata": {},
     "output_type": "execute_result"
    }
   ],
   "source": [
    "\n",
    "HR_df = pd.DataFrame.from_dict(save_dict['1647264808.00'],orient='index')\n",
    "HR_df"
   ]
  }
 ],
 "metadata": {
  "interpreter": {
   "hash": "479f35b4960f94752270618dbc989f68d39e793e13288af48681f5dd2c9ade2e"
  },
  "kernelspec": {
   "display_name": "Python 3.8.8 ('base')",
   "language": "python",
   "name": "python3"
  },
  "language_info": {
   "codemirror_mode": {
    "name": "ipython",
    "version": 3
   },
   "file_extension": ".py",
   "mimetype": "text/x-python",
   "name": "python",
   "nbconvert_exporter": "python",
   "pygments_lexer": "ipython3",
   "version": "3.9.7"
  },
  "orig_nbformat": 4
 },
 "nbformat": 4,
 "nbformat_minor": 2
}
